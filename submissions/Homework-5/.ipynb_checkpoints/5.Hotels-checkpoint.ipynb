{
 "metadata": {
  "name": "",
  "signature": "sha256:60675e51bfb8088411c1bf66689967369cda318553dd9e8fc486003d32c5baac"
 },
 "nbformat": 3,
 "nbformat_minor": 0,
 "worksheets": [
  {
   "cells": [
    {
     "cell_type": "markdown",
     "metadata": {},
     "source": [
      "(In order to load the stylesheet of this notebook, execute the last code cell in this notebook)"
     ]
    },
    {
     "cell_type": "heading",
     "level": 1,
     "metadata": {},
     "source": [
      "Analyzing hotel ratings on Tripadvisor"
     ]
    },
    {
     "cell_type": "markdown",
     "metadata": {},
     "source": [
      "In this homework we will focus on practicing two techniques: web scraping and regression. For the first part, we will build upon the sample code from the Lecture and attempt to get some basic information for each hotel. Then, we will fit a regression model on this information and try to analyze it.   "
     ]
    },
    {
     "cell_type": "markdown",
     "metadata": {},
     "source": [
      "One of the main disadvantages of scraping a website instead of using an API is that, without any notice, the website may change its layout and render our code useless. Something like that happened in our case. Tripadvisor changed the layout of the buttons that we use to navigate between the different pages of the results. This was the main reason people were having problem with executing the code."
     ]
    },
    {
     "cell_type": "markdown",
     "metadata": {},
     "source": [
      "**Task 1 (20 pts)**\n",
      "\n",
      "The first task of the homework is to fix the scraping code. We basically need to replace the part where we are checking if there is another page and getting its link with new code that reflects the new navigation layout. "
     ]
    },
    {
     "cell_type": "markdown",
     "metadata": {},
     "source": [
      "** Task 2 (30 pts)**\n",
      "\n",
      "Then, for each hotel that our search returns, we will \"click\" (with the code of course) on it and scrape the information below.\n",
      "\n",
      "![Information to be scraped](hotel_info.png)\n",
      "\n",
      "Of course, feel free to collect even more data if you want. "
     ]
    },
    {
     "cell_type": "markdown",
     "metadata": {},
     "source": [
      "** Task 3 (20 pts) **\n",
      "\n",
      "Now, we will use regression to analyze this information. First, we will fit a linear regression model that predicts the average rating. For example, for the hotel above, the average rating is\n",
      "\n",
      "$$ \\text{AVG_SCORE} = \\frac{1*31 + 2*33 + 3*98 + 4*504 + 5*1861}{2527}$$\n",
      "\n",
      "Use the model to analyze the important factors that decide the $\\text{AVG_SCORE}$."
     ]
    },
    {
     "cell_type": "markdown",
     "metadata": {},
     "source": [
      "** Task 4 (30 pts) **\n",
      "\n",
      "Finally, we will use logistic regression to decide if a hotel is _excellent_ or not. We classify a hotel as _excellent_ if more than **60%** of its ratings are 5 stars. This is a binary attribute on which we can fit a logistic regression model. As before, use the model to analyze the data.\n",
      "\n",
      "-------"
     ]
    },
    {
     "cell_type": "markdown",
     "metadata": {},
     "source": [
      "In order to use code from a Python script file, we need to put that file in the same folder as the notebook and import it as a library. Then, we will be able to access it's functions. For example, in the case of the lecture code, we could do the following:\n",
      "\n",
      "``` python\n",
      "import scrape_solution as scrape\n",
      "\n",
      "scrape.get_city_page()\n",
      "```\n",
      "\n",
      "Of course, you might need to modify and restructure the code so that it returns what you need."
     ]
    },
    {
     "cell_type": "markdown",
     "metadata": {},
     "source": [
      "----"
     ]
    },
    {
     "cell_type": "code",
     "collapsed": false,
     "input": [
      "import pandas as pd\n",
      "import time\n",
      "\n",
      "import numpy as np\n",
      "import matplotlib.pyplot as plt\n",
      "\n",
      "import sklearn.datasets as datasets\n",
      "import sklearn.metrics as metrics\n",
      "import sklearn.utils as utils\n",
      "import sklearn.linear_model as linear_model\n",
      "import sklearn.cross_validation as cross_validation\n",
      "import sklearn.cluster as cluster\n",
      "from sklearn.neighbors import KNeighborsClassifier\n",
      "from sklearn.decomposition import TruncatedSVD\n",
      "from sklearn.preprocessing import StandardScaler\n",
      "\n",
      "import statsmodels.api as sm\n",
      "\n",
      "from patsy import dmatrices\n",
      "\n",
      "import seaborn as sns\n",
      "%matplotlib inline\n"
     ],
     "language": "python",
     "metadata": {},
     "outputs": [],
     "prompt_number": 1
    },
    {
     "cell_type": "code",
     "collapsed": false,
     "input": [
      "import os\n",
      "import sys\n",
      "import time\n",
      "import argparse\n",
      "import logging\n",
      "import requests\n",
      "from BeautifulSoup import BeautifulSoup\n",
      "\n",
      "\n",
      "log = logging.getLogger(__name__)\n",
      "log.setLevel(logging.INFO)\n",
      "loghandler = logging.StreamHandler(sys.stderr)\n",
      "loghandler.setFormatter(logging.Formatter(\"[%(asctime)s] %(message)s\"))\n",
      "log.addHandler(loghandler)\n",
      "\n",
      "base_url = \"http://www.tripadvisor.com/\"\n",
      "user_agent = \"Mozilla/5.0 (Macintosh; Intel Mac OS X 10_10_2) AppleWebKit/537.36 (KHTML, like Gecko) Chrome/41.0.2272.76 Safari/537.36\""
     ],
     "language": "python",
     "metadata": {},
     "outputs": [],
     "prompt_number": 2
    },
    {
     "cell_type": "code",
     "collapsed": false,
     "input": [
      "def get_city_page(city, state, datadir):\n",
      "    \"\"\" Returns the URL of the list of the hotels in a city. Corresponds to\n",
      "    STEP 1 & 2 of the slides.\n",
      "\n",
      "    Parameters\n",
      "    ----------\n",
      "    city : str\n",
      "\n",
      "    state : str\n",
      "\n",
      "    datadir : str\n",
      "\n",
      "\n",
      "    Returns\n",
      "    -------\n",
      "    url : str\n",
      "        The relative link to the website with the hotels list.\n",
      "\n",
      "    \"\"\"\n",
      "    # Build the request URL\n",
      "    url = base_url + \"city=\" + city + \"&state=\" + state\n",
      "    # Request the HTML page\n",
      "    headers = {'User-Agent': user_agent}\n",
      "    response = requests.get(url, headers=headers)\n",
      "    html = response.text.encode('utf-8')\n",
      "    with open(os.path.join(datadir, city + '-tourism-page.html'), \"w\") as h:\n",
      "        h.write(html)\n",
      "\n",
      "    # Use BeautifulSoup to extract the url for the list of hotels in\n",
      "    # the city and state we are interested in.\n",
      "\n",
      "    # For example in this case we need to get the following href\n",
      "    # <li class=\"hotels twoLines\">\n",
      "    # <a href=\"/Hotels-g60745-Boston_Massachusetts-Hotels.html\" data-trk=\"hotels_nav\">...</a>\n",
      "    soup = BeautifulSoup(html)\n",
      "    li = soup.find(\"li\", {\"class\": \"hotels twoLines\"})\n",
      "    city_url = li.find('a', href=True)\n",
      "    return city_url['href']\n"
     ],
     "language": "python",
     "metadata": {},
     "outputs": [],
     "prompt_number": 3
    },
    {
     "cell_type": "code",
     "collapsed": false,
     "input": [
      "def get_hotellist_page(city_url, page_count, city, datadir='data/'):\n",
      "    \"\"\" Returns the hotel list HTML. The URL of the list is the result of\n",
      "    get_city_page(). Also, saves a copy of the HTML to the disk. Corresponds to\n",
      "    STEP 3 of the slides.\n",
      "\n",
      "    Parameters\n",
      "    ----------\n",
      "    city_url : str\n",
      "        The relative URL of the hotels in the city we are interested in.\n",
      "    page_count : int\n",
      "        The page that we want to fetch. Used for keeping track of our progress.\n",
      "    city : str\n",
      "        The name of the city that we are interested in.\n",
      "    datadir : str, default is 'data/'\n",
      "        The directory in which to save the downloaded html.\n",
      "\n",
      "    Returns\n",
      "    -------\n",
      "    html : str\n",
      "        The HTML of the page with the list of the hotels.\n",
      "    \"\"\"\n",
      "    url = base_url + city_url\n",
      "    # Sleep 2 sec before starting a new http request\n",
      "    time.sleep(2)\n",
      "    # Request page\n",
      "    headers = { 'User-Agent' : user_agent }\n",
      "    response = requests.get(url, headers=headers)\n",
      "    html = response.text.encode('utf-8')\n",
      "    # Save the webpage\n",
      "    with open(os.path.join(datadir, city + '-hotelist-' + str(page_count) + '.html'), \"w\") as h:\n",
      "        h.write(html)\n",
      "        return html\n",
      "    #print url\n"
     ],
     "language": "python",
     "metadata": {},
     "outputs": [],
     "prompt_number": 4
    },
    {
     "cell_type": "code",
     "collapsed": false,
     "input": [
      "def parse_hotellist_page(html):\n",
      "    \"\"\"Parses the website with the hotel list and prints the hotel name, the\n",
      "    number of stars and the number of reviews it has. Addtionally it creats a list of all the urls for each\n",
      "    hotel on that page, and returns that list. If there is a next page\n",
      "    in the hotel list, it returns a list to the next page, otherwise, it simply returns the hotel url list for \n",
      "    that page. Corresponds to STEP 4 of the slides.\n",
      "\n",
      "    Parameters\n",
      "    ----------\n",
      "    html : str\n",
      "        The HTML of the website with the hotel list.\n",
      "\n",
      "    Returns\n",
      "    -------\n",
      "    URL : str\n",
      "        Return list of all hotel urls on page\n",
      "        If there is a next page, return a relative link to this page.\n",
      "        Otherwise simply return the hotel url list.\n",
      "    \"\"\"\n",
      "    soup = BeautifulSoup(html)\n",
      "    # Extract hotel name, star rating and number of reviews\n",
      "    hotel_boxes = soup.findAll('div', {'class' :'listing wrap reasoning_v5_wrap jfy_listing p13n_imperfect'})\n",
      "    if not hotel_boxes:\n",
      "        log.info(\"#################################### Option 2 ######################################\")\n",
      "        hotel_boxes = soup.findAll('div', {'class' :'listing_info jfy'})\n",
      "    if not hotel_boxes:\n",
      "        log.info(\"#################################### Option 3 ######################################\")\n",
      "        hotel_boxes = soup.findAll('div', {'class' :'listing easyClear  p13n_imperfect'})\n",
      "\n",
      "    \"\"\"for hotel_box in hotel_boxes:\n",
      "        hotel_name = hotel_box.find(\"a\", {\"target\" : \"_blank\"}).find(text=True)\n",
      "        log.info(\"Hotel name: %s\" % hotel_name.strip())\n",
      "\n",
      "        stars = hotel_box.find(\"img\", {\"class\" : \"sprite-ratings\"})\n",
      "        if stars:\n",
      "            log.info(\"Stars: %s\" % stars['alt'].split()[0])\n",
      "\n",
      "        num_reviews = hotel_box.find(\"span\", {'class': \"more\"}).findAll(text=True)\n",
      "        if num_reviews:\n",
      "            log.info(\"Number of reviews: %s \" % [x for x in num_reviews if \"review\" in x][0].strip())\"\"\"\n",
      "    \n",
      "    hotel_page =[]\n",
      "    for hotel_box in hotel_boxes:\n",
      "        hotel_link = hotel_box.find('a', {'class': 'property_title'})\n",
      "        hotel_page.append(hotel_link['href'])\n",
      "        #log.info(hotel_link['href'])\n",
      "    \n",
      "    # Get next URL page if exists, otherwise exit\n",
      "    div = soup.find(\"div\", {\"class\" : \"pagination paginationfillbtm\"})\n",
      "    \n",
      "    \n",
      "    #return the url to the next page\n",
      "    hrefs = div.findAll('a', href= True)\n",
      "    #log.debug(div)\n",
      "    href=div.find('a', {\"class\" :'guiArw sprite-pageNext '})\n",
      "    #log.debug(\"Next url is %s \\n\\n\" % href['href'])\n",
      "    log.debug(hotel_page)\n",
      "    # check if this is the last page\n",
      "    if div('span', {'class' : 'guiArw pageEndNext'}):\n",
      "        log.info(\"We reached last page\")\n",
      "        return None, hotel_page\n",
      "    else:\n",
      "        return href['href'], hotel_page\n",
      "    "
     ],
     "language": "python",
     "metadata": {},
     "outputs": [],
     "prompt_number": 5
    },
    {
     "cell_type": "code",
     "collapsed": false,
     "input": [
      "def scrape_hotels(city, state, datadir='data/'):\n",
      "    \"\"\"Runs the main scraper code\n",
      "\n",
      "    Parameters\n",
      "    ----------\n",
      "    city : str\n",
      "        The name of the city for which to scrape hotels.\n",
      "\n",
      "    state : str\n",
      "        The state in which the city is located.\n",
      "\n",
      "    datadir : str, default is 'data/'\n",
      "        The directory under which to save the downloaded html.\n",
      "        \n",
      "    Returns\n",
      "    -------\n",
      "    URL: lst\n",
      "        Returns a list of the urls to all the hotels in Boston\n",
      "    \"\"\"\n",
      "\n",
      "    # Get current directory\n",
      "    current_dir = os.getcwd()\n",
      "    # Create datadir if does not exist\n",
      "    if not os.path.exists(os.path.join(current_dir, datadir)):\n",
      "        os.makedirs(os.path.join(current_dir, datadir))\n",
      "\n",
      "    # Get URL to obtaint the list of hotels in a specific city\n",
      "    city_url = get_city_page(city, state, datadir)\n",
      "    c = 0\n",
      "    all_hotels=[]\n",
      "    while(True):\n",
      "        c += 1\n",
      "        try:\n",
      "            html = get_hotellist_page(city_url, c, city, datadir)\n",
      "            print city_url\n",
      "            city_url = parse_hotellist_page(html)[0]\n",
      "            all_hotels.extend(parse_hotellist_page(html)[1])\n",
      "            #log.info(all_hotels)\n",
      "            #log.info(city_url)\n",
      "            print len(parse_hotellist_page(html)[1])\n",
      "        except Exception:\n",
      "            break\n",
      "    return all_hotels"
     ],
     "language": "python",
     "metadata": {},
     "outputs": [],
     "prompt_number": 6
    },
    {
     "cell_type": "code",
     "collapsed": false,
     "input": [
      "all_hotel_urls=scrape_hotels('Boston', 'Massachusetts', 'data')"
     ],
     "language": "python",
     "metadata": {},
     "outputs": [
      {
       "output_type": "stream",
       "stream": "stderr",
       "text": [
        "[2015-04-06 11:09:14,548] #################################### Option 2 ######################################\n"
       ]
      },
      {
       "output_type": "stream",
       "stream": "stderr",
       "text": [
        "INFO:__main__:#################################### Option 2 ######################################\n"
       ]
      },
      {
       "output_type": "stream",
       "stream": "stderr",
       "text": [
        "[2015-04-06 11:09:14,747] #################################### Option 3 ######################################\n"
       ]
      },
      {
       "output_type": "stream",
       "stream": "stderr",
       "text": [
        "INFO:__main__:#################################### Option 3 ######################################\n"
       ]
      },
      {
       "output_type": "stream",
       "stream": "stderr",
       "text": [
        "[2015-04-06 11:09:17,444] #################################### Option 2 ######################################\n"
       ]
      },
      {
       "output_type": "stream",
       "stream": "stderr",
       "text": [
        "INFO:__main__:#################################### Option 2 ######################################\n"
       ]
      },
      {
       "output_type": "stream",
       "stream": "stderr",
       "text": [
        "[2015-04-06 11:09:17,642] #################################### Option 3 ######################################\n"
       ]
      },
      {
       "output_type": "stream",
       "stream": "stderr",
       "text": [
        "INFO:__main__:#################################### Option 3 ######################################\n"
       ]
      },
      {
       "output_type": "stream",
       "stream": "stderr",
       "text": [
        "[2015-04-06 11:09:20,403] #################################### Option 2 ######################################\n"
       ]
      },
      {
       "output_type": "stream",
       "stream": "stderr",
       "text": [
        "INFO:__main__:#################################### Option 2 ######################################\n"
       ]
      },
      {
       "output_type": "stream",
       "stream": "stderr",
       "text": [
        "[2015-04-06 11:09:20,601] #################################### Option 3 ######################################\n"
       ]
      },
      {
       "output_type": "stream",
       "stream": "stderr",
       "text": [
        "INFO:__main__:#################################### Option 3 ######################################\n"
       ]
      },
      {
       "output_type": "stream",
       "stream": "stdout",
       "text": [
        "/Hotels-g60745-Boston_Massachusetts-Hotels.html\n",
        "30"
       ]
      },
      {
       "output_type": "stream",
       "stream": "stdout",
       "text": [
        "\n",
        "/Hotels-g60745-oa30-Boston_Massachusetts-Hotels.html#ACCOM_OVERVIEW"
       ]
      },
      {
       "output_type": "stream",
       "stream": "stderr",
       "text": [
        "[2015-04-06 11:09:27,574] #################################### Option 2 ######################################\n"
       ]
      },
      {
       "output_type": "stream",
       "stream": "stderr",
       "text": [
        "INFO:__main__:#################################### Option 2 ######################################\n"
       ]
      },
      {
       "output_type": "stream",
       "stream": "stderr",
       "text": [
        "[2015-04-06 11:09:27,791] #################################### Option 3 ######################################\n"
       ]
      },
      {
       "output_type": "stream",
       "stream": "stderr",
       "text": [
        "INFO:__main__:#################################### Option 3 ######################################\n"
       ]
      },
      {
       "output_type": "stream",
       "stream": "stderr",
       "text": [
        "[2015-04-06 11:09:31,000] #################################### Option 2 ######################################\n"
       ]
      },
      {
       "output_type": "stream",
       "stream": "stderr",
       "text": [
        "INFO:__main__:#################################### Option 2 ######################################\n"
       ]
      },
      {
       "output_type": "stream",
       "stream": "stderr",
       "text": [
        "[2015-04-06 11:09:31,240] #################################### Option 3 ######################################\n"
       ]
      },
      {
       "output_type": "stream",
       "stream": "stderr",
       "text": [
        "INFO:__main__:#################################### Option 3 ######################################\n"
       ]
      },
      {
       "output_type": "stream",
       "stream": "stderr",
       "text": [
        "[2015-04-06 11:09:34,219] #################################### Option 2 ######################################\n"
       ]
      },
      {
       "output_type": "stream",
       "stream": "stderr",
       "text": [
        "INFO:__main__:#################################### Option 2 ######################################\n"
       ]
      },
      {
       "output_type": "stream",
       "stream": "stderr",
       "text": [
        "[2015-04-06 11:09:34,415] #################################### Option 3 ######################################\n"
       ]
      },
      {
       "output_type": "stream",
       "stream": "stderr",
       "text": [
        "INFO:__main__:#################################### Option 3 ######################################\n"
       ]
      },
      {
       "output_type": "stream",
       "stream": "stdout",
       "text": [
        "\n",
        "30"
       ]
      },
      {
       "output_type": "stream",
       "stream": "stdout",
       "text": [
        "\n",
        "/Hotels-g60745-oa60-Boston_Massachusetts-Hotels.html#ACCOM_OVERVIEW"
       ]
      },
      {
       "output_type": "stream",
       "stream": "stderr",
       "text": [
        "[2015-04-06 11:09:42,011] We reached last page\n"
       ]
      },
      {
       "output_type": "stream",
       "stream": "stderr",
       "text": [
        "INFO:__main__:We reached last page\n"
       ]
      },
      {
       "output_type": "stream",
       "stream": "stderr",
       "text": [
        "[2015-04-06 11:09:45,049] We reached last page\n"
       ]
      },
      {
       "output_type": "stream",
       "stream": "stderr",
       "text": [
        "INFO:__main__:We reached last page\n"
       ]
      },
      {
       "output_type": "stream",
       "stream": "stderr",
       "text": [
        "[2015-04-06 11:09:49,054] We reached last page\n"
       ]
      },
      {
       "output_type": "stream",
       "stream": "stderr",
       "text": [
        "INFO:__main__:We reached last page\n"
       ]
      },
      {
       "output_type": "stream",
       "stream": "stdout",
       "text": [
        "\n",
        "17"
       ]
      },
      {
       "output_type": "stream",
       "stream": "stdout",
       "text": [
        "\n"
       ]
      }
     ],
     "prompt_number": 7
    },
    {
     "cell_type": "code",
     "collapsed": false,
     "input": [
      "from collections import defaultdict\n",
      "def parse_hotel_stats(hotel_url_list):\n",
      "    \"\"\"Scrapes the stats for each hotel in the hotel_url_list and returns a dataframe with the scraped data\n",
      "    Parameters\n",
      "    ----------\n",
      "    hotel_url_list: lst\n",
      "    \n",
      "    Returns\n",
      "    -------\n",
      "    DataFrame: pd.DataFrame\n",
      "    \"\"\"\n",
      "    data=defaultdict(list)\n",
      "    for i in range(0, len(hotel_url_list)):\n",
      "        url = base_url+hotel_url_list[i]\n",
      "        headers = {'User-Agent': user_agent}\n",
      "        response = requests.get(url, headers=headers)\n",
      "        html = response.text.encode('utf-8')\n",
      "        soup = BeautifulSoup(html)\n",
      "        \n",
      "        \n",
      "        name_header=soup.find('div', {'class': 'brandArea'})\n",
      "        hotel_name=name_header.find('h1', {'class':'header   '}).find(text=True)\n",
      "        data['hotel_name'].append(hotel_name)\n",
      "        \n",
      "        ratings=soup.findAll('div', {'class': 'wrap row'})\n",
      "        rating_list=[]\n",
      "        for rate in ratings:\n",
      "            rating_list.append(rate.find('span', {'class':'compositeCount'}).find(text=True))\n",
      "            #log.info(rating_list)\n",
      "            \n",
      "        data['excellent_rating'].append(rating_list[0])\n",
      "        data['very_good_rating'].append(rating_list[1])\n",
      "        data['average_rating'].append(rating_list[2])\n",
      "        data['poor_rating'].append(rating_list[3])\n",
      "        data['terrible_rating'].append(rating_list[4])\n",
      "        \n",
      "        family=soup.find('div', {'class': 'segment segment1'})\n",
      "        family_count=family.find('div', {'class': 'value'}).find(text=True)\n",
      "        data['family_count'].append(family_count)\n",
      "        \n",
      "        couples = soup.find('div', {'class': 'segment segment2'})\n",
      "        couples_count=couples.find('div', {'class': 'value'}).find(text=True)\n",
      "        data['couples_count'].append(couples_count)\n",
      "        \n",
      "        solo = soup.find('div', {'class': 'segment segment3'})\n",
      "        solo_count = solo.find('div', {'class': 'value'}).find(text=True)\n",
      "        data['solo_count'].append(solo_count)\n",
      "        \n",
      "        business = soup.find('div', {'class': 'segment segment4'})\n",
      "        business_count=business.find('div', {'class': 'value'}).find(text=True)\n",
      "        data['business_count'].append(business_count)\n",
      "        \n",
      "        summary_box = soup.find('div', {'class' : 'wrap subrating'})\n",
      "        boxes = summary_box.findAll('span', {'class' : 'rate sprite-rating_s rating_s'})\n",
      "        stars_list=[]\n",
      "        for box in boxes:\n",
      "            num_stars=box.find('img')\n",
      "            stars_list.append(num_stars['alt'].split()[0])\n",
      "            \n",
      "        data['sleep_quality'].append(stars_list[0])\n",
      "        data['location'].append(stars_list[1])\n",
      "        data['rooms'].append(stars_list[2])\n",
      "        data['service'].append(stars_list[3])\n",
      "        data['value'].append(stars_list[4])\n",
      "        data['cleanliness'].append(stars_list[5])\n",
      "            \n",
      "        log.info(stars_list)\n",
      "        \n",
      "        #log.info(\"Stars: %s\" % stars['alt'].split()[0])\n",
      "            \n",
      "        #log.info(boxes)\n",
      "        \n",
      "        #log.info(family_count)\n",
      "        time.sleep(2)\n",
      "        \n",
      "    df = pd.DataFrame(data)\n",
      "    return df\n",
      "    \"\"\"li = soup.find(\"li\", {\"class\": \"hotels twoLines\"})\n",
      "    city_url = li.find('a', href=True)\n",
      "    return city_url['href']\"\"\"\n",
      "\n",
      "        \n",
      "#minilist= ['Hotel_Review-g60745-d216999-Reviews-Americas_Best_Value_Inn-Boston_Massachusetts.html',\n",
      "           #'Hotel_Review-g60745-d268207-Reviews-Residence_Inn_by_Marriott_Boston_Harbor_on_Tudor_Wharf-Boston_Massachusetts.html']    \n",
      "    \n",
      "bhotel=parse_hotel_stats(all_hotel_urls)\n",
      "bhotel.head()\n",
      "bhotel.index=bhotel.hotel_name\n",
      "bhotel =bhotel.drop(['hotel_name'], axis =1)"
     ],
     "language": "python",
     "metadata": {},
     "outputs": [
      {
       "output_type": "stream",
       "stream": "stderr",
       "text": [
        "[2015-04-06 11:10:21,239] [u'4.5', u'4.5', u'4.5', u'4.5', u'4.5', u'5']\n"
       ]
      },
      {
       "output_type": "stream",
       "stream": "stderr",
       "text": [
        "INFO:__main__:[u'4.5', u'4.5', u'4.5', u'4.5', u'4.5', u'5']\n"
       ]
      },
      {
       "output_type": "stream",
       "stream": "stderr",
       "text": [
        "[2015-04-06 11:10:25,424] [u'4.5', u'4', u'4', u'4.5', u'4', u'4.5']\n"
       ]
      },
      {
       "output_type": "stream",
       "stream": "stderr",
       "text": [
        "INFO:__main__:[u'4.5', u'4', u'4', u'4.5', u'4', u'4.5']\n"
       ]
      },
      {
       "output_type": "stream",
       "stream": "stderr",
       "text": [
        "[2015-04-06 11:10:29,538] [u'5', u'5', u'5', u'5', u'4.5', u'5']\n"
       ]
      },
      {
       "output_type": "stream",
       "stream": "stderr",
       "text": [
        "INFO:__main__:[u'5', u'5', u'5', u'5', u'4.5', u'5']\n"
       ]
      },
      {
       "output_type": "stream",
       "stream": "stderr",
       "text": [
        "[2015-04-06 11:10:33,681] [u'5', u'4.5', u'4.5', u'5', u'4.5', u'5']\n"
       ]
      },
      {
       "output_type": "stream",
       "stream": "stderr",
       "text": [
        "INFO:__main__:[u'5', u'4.5', u'4.5', u'5', u'4.5', u'5']\n"
       ]
      },
      {
       "output_type": "stream",
       "stream": "stderr",
       "text": [
        "[2015-04-06 11:10:37,981] [u'4.5', u'4', u'4.5', u'4.5', u'4.5', u'5']\n"
       ]
      },
      {
       "output_type": "stream",
       "stream": "stderr",
       "text": [
        "INFO:__main__:[u'4.5', u'4', u'4.5', u'4.5', u'4.5', u'5']\n"
       ]
      },
      {
       "output_type": "stream",
       "stream": "stderr",
       "text": [
        "[2015-04-06 11:10:42,789] [u'4.5', u'4.5', u'4.5', u'4.5', u'4', u'4.5']\n"
       ]
      },
      {
       "output_type": "stream",
       "stream": "stderr",
       "text": [
        "INFO:__main__:[u'4.5', u'4.5', u'4.5', u'4.5', u'4', u'4.5']\n"
       ]
      },
      {
       "output_type": "stream",
       "stream": "stderr",
       "text": [
        "[2015-04-06 11:10:47,188] [u'5', u'4.5', u'4.5', u'5', u'4.5', u'5']\n"
       ]
      },
      {
       "output_type": "stream",
       "stream": "stderr",
       "text": [
        "INFO:__main__:[u'5', u'4.5', u'4.5', u'5', u'4.5', u'5']\n"
       ]
      },
      {
       "output_type": "stream",
       "stream": "stderr",
       "text": [
        "[2015-04-06 11:10:51,291] [u'5', u'4.5', u'4.5', u'4.5', u'4', u'4.5']\n"
       ]
      },
      {
       "output_type": "stream",
       "stream": "stderr",
       "text": [
        "INFO:__main__:[u'5', u'4.5', u'4.5', u'4.5', u'4', u'4.5']\n"
       ]
      },
      {
       "output_type": "stream",
       "stream": "stderr",
       "text": [
        "[2015-04-06 11:10:55,888] [u'5', u'4.5', u'4.5', u'4.5', u'4.5', u'4.5']\n"
       ]
      },
      {
       "output_type": "stream",
       "stream": "stderr",
       "text": [
        "INFO:__main__:[u'5', u'4.5', u'4.5', u'4.5', u'4.5', u'4.5']\n"
       ]
      },
      {
       "output_type": "stream",
       "stream": "stderr",
       "text": [
        "[2015-04-06 11:11:00,008] [u'5', u'4.5', u'4.5', u'4.5', u'4', u'4.5']\n"
       ]
      },
      {
       "output_type": "stream",
       "stream": "stderr",
       "text": [
        "INFO:__main__:[u'5', u'4.5', u'4.5', u'4.5', u'4', u'4.5']\n"
       ]
      },
      {
       "output_type": "stream",
       "stream": "stderr",
       "text": [
        "[2015-04-06 11:11:04,683] [u'5', u'4', u'4', u'4.5', u'4', u'4.5']\n"
       ]
      },
      {
       "output_type": "stream",
       "stream": "stderr",
       "text": [
        "INFO:__main__:[u'5', u'4', u'4', u'4.5', u'4', u'4.5']\n"
       ]
      },
      {
       "output_type": "stream",
       "stream": "stderr",
       "text": [
        "[2015-04-06 11:11:09,017] [u'5', u'4.5', u'4.5', u'4.5', u'4', u'5']\n"
       ]
      },
      {
       "output_type": "stream",
       "stream": "stderr",
       "text": [
        "INFO:__main__:[u'5', u'4.5', u'4.5', u'4.5', u'4', u'5']\n"
       ]
      },
      {
       "output_type": "stream",
       "stream": "stderr",
       "text": [
        "[2015-04-06 11:11:13,246] [u'4.5', u'4', u'4', u'4', u'4', u'4.5']\n"
       ]
      },
      {
       "output_type": "stream",
       "stream": "stderr",
       "text": [
        "INFO:__main__:[u'4.5', u'4', u'4', u'4', u'4', u'4.5']\n"
       ]
      },
      {
       "output_type": "stream",
       "stream": "stderr",
       "text": [
        "[2015-04-06 11:11:18,057] [u'4.5', u'4', u'4', u'4.5', u'3.5', u'4.5']\n"
       ]
      },
      {
       "output_type": "stream",
       "stream": "stderr",
       "text": [
        "INFO:__main__:[u'4.5', u'4', u'4', u'4.5', u'3.5', u'4.5']\n"
       ]
      },
      {
       "output_type": "stream",
       "stream": "stderr",
       "text": [
        "[2015-04-06 11:11:22,353] [u'4.5', u'4', u'3.5', u'4', u'4', u'4']\n"
       ]
      },
      {
       "output_type": "stream",
       "stream": "stderr",
       "text": [
        "INFO:__main__:[u'4.5', u'4', u'3.5', u'4', u'4', u'4']\n"
       ]
      },
      {
       "output_type": "stream",
       "stream": "stderr",
       "text": [
        "[2015-04-06 11:11:26,774] [u'4.5', u'4.5', u'4.5', u'4.5', u'4.5', u'5']\n"
       ]
      },
      {
       "output_type": "stream",
       "stream": "stderr",
       "text": [
        "INFO:__main__:[u'4.5', u'4.5', u'4.5', u'4.5', u'4.5', u'5']\n"
       ]
      },
      {
       "output_type": "stream",
       "stream": "stderr",
       "text": [
        "[2015-04-06 11:11:31,250] [u'5', u'4.5', u'4', u'4.5', u'4', u'4.5']\n"
       ]
      },
      {
       "output_type": "stream",
       "stream": "stderr",
       "text": [
        "INFO:__main__:[u'5', u'4.5', u'4', u'4.5', u'4', u'4.5']\n"
       ]
      },
      {
       "output_type": "stream",
       "stream": "stderr",
       "text": [
        "[2015-04-06 11:11:35,643] [u'5', u'4', u'4', u'4', u'4', u'4.5']\n"
       ]
      },
      {
       "output_type": "stream",
       "stream": "stderr",
       "text": [
        "INFO:__main__:[u'5', u'4', u'4', u'4', u'4', u'4.5']\n"
       ]
      },
      {
       "output_type": "stream",
       "stream": "stderr",
       "text": [
        "[2015-04-06 11:11:39,756] [u'5', u'4.5', u'4', u'4', u'4', u'4.5']\n"
       ]
      },
      {
       "output_type": "stream",
       "stream": "stderr",
       "text": [
        "INFO:__main__:[u'5', u'4.5', u'4', u'4', u'4', u'4.5']\n"
       ]
      },
      {
       "output_type": "stream",
       "stream": "stderr",
       "text": [
        "[2015-04-06 11:11:43,928] [u'4.5', u'4', u'4', u'4', u'4', u'4.5']\n"
       ]
      },
      {
       "output_type": "stream",
       "stream": "stderr",
       "text": [
        "INFO:__main__:[u'4.5', u'4', u'4', u'4', u'4', u'4.5']\n"
       ]
      },
      {
       "output_type": "stream",
       "stream": "stderr",
       "text": [
        "[2015-04-06 11:11:48,218] [u'5', u'4.5', u'4', u'4.5', u'4', u'4.5']\n"
       ]
      },
      {
       "output_type": "stream",
       "stream": "stderr",
       "text": [
        "INFO:__main__:[u'5', u'4.5', u'4', u'4.5', u'4', u'4.5']\n"
       ]
      },
      {
       "output_type": "stream",
       "stream": "stderr",
       "text": [
        "[2015-04-06 11:11:52,961] [u'4.5', u'4.5', u'4.5', u'4.5', u'4', u'4.5']\n"
       ]
      },
      {
       "output_type": "stream",
       "stream": "stderr",
       "text": [
        "INFO:__main__:[u'4.5', u'4.5', u'4.5', u'4.5', u'4', u'4.5']\n"
       ]
      },
      {
       "output_type": "stream",
       "stream": "stderr",
       "text": [
        "[2015-04-06 11:11:57,807] [u'5', u'4', u'4', u'4', u'4', u'4.5']\n"
       ]
      },
      {
       "output_type": "stream",
       "stream": "stderr",
       "text": [
        "INFO:__main__:[u'5', u'4', u'4', u'4', u'4', u'4.5']\n"
       ]
      },
      {
       "output_type": "stream",
       "stream": "stderr",
       "text": [
        "[2015-04-06 11:12:02,722] [u'5', u'4.5', u'4.5', u'4.5', u'4', u'4.5']\n"
       ]
      },
      {
       "output_type": "stream",
       "stream": "stderr",
       "text": [
        "INFO:__main__:[u'5', u'4.5', u'4.5', u'4.5', u'4', u'4.5']\n"
       ]
      },
      {
       "output_type": "stream",
       "stream": "stderr",
       "text": [
        "[2015-04-06 11:12:07,710] [u'4.5', u'4.5', u'4.5', u'4.5', u'4', u'4.5']\n"
       ]
      },
      {
       "output_type": "stream",
       "stream": "stderr",
       "text": [
        "INFO:__main__:[u'4.5', u'4.5', u'4.5', u'4.5', u'4', u'4.5']\n"
       ]
      },
      {
       "output_type": "stream",
       "stream": "stderr",
       "text": [
        "[2015-04-06 11:12:11,997] [u'4.5', u'4', u'3.5', u'4', u'4', u'4']\n"
       ]
      },
      {
       "output_type": "stream",
       "stream": "stderr",
       "text": [
        "INFO:__main__:[u'4.5', u'4', u'3.5', u'4', u'4', u'4']\n"
       ]
      },
      {
       "output_type": "stream",
       "stream": "stderr",
       "text": [
        "[2015-04-06 11:12:16,751] [u'4.5', u'4.5', u'4', u'4', u'4', u'4.5']\n"
       ]
      },
      {
       "output_type": "stream",
       "stream": "stderr",
       "text": [
        "INFO:__main__:[u'4.5', u'4.5', u'4', u'4', u'4', u'4.5']\n"
       ]
      },
      {
       "output_type": "stream",
       "stream": "stderr",
       "text": [
        "[2015-04-06 11:12:21,428] [u'4.5', u'4.5', u'4.5', u'4.5', u'4.5', u'5']\n"
       ]
      },
      {
       "output_type": "stream",
       "stream": "stderr",
       "text": [
        "INFO:__main__:[u'4.5', u'4.5', u'4.5', u'4.5', u'4.5', u'5']\n"
       ]
      },
      {
       "output_type": "stream",
       "stream": "stderr",
       "text": [
        "[2015-04-06 11:12:26,060] [u'4.5', u'4', u'4', u'4', u'3.5', u'4.5']\n"
       ]
      },
      {
       "output_type": "stream",
       "stream": "stderr",
       "text": [
        "INFO:__main__:[u'4.5', u'4', u'4', u'4', u'3.5', u'4.5']\n"
       ]
      },
      {
       "output_type": "stream",
       "stream": "stderr",
       "text": [
        "[2015-04-06 11:12:31,330] [u'4.5', u'4.5', u'4.5', u'4.5', u'4', u'4.5']\n"
       ]
      },
      {
       "output_type": "stream",
       "stream": "stderr",
       "text": [
        "INFO:__main__:[u'4.5', u'4.5', u'4.5', u'4.5', u'4', u'4.5']\n"
       ]
      },
      {
       "output_type": "stream",
       "stream": "stderr",
       "text": [
        "[2015-04-06 11:12:35,652] [u'4.5', u'4', u'4', u'4', u'3.5', u'4.5']\n"
       ]
      },
      {
       "output_type": "stream",
       "stream": "stderr",
       "text": [
        "INFO:__main__:[u'4.5', u'4', u'4', u'4', u'3.5', u'4.5']\n"
       ]
      },
      {
       "output_type": "stream",
       "stream": "stderr",
       "text": [
        "[2015-04-06 11:12:40,192] [u'4.5', u'4.5', u'4', u'4.5', u'3.5', u'4.5']\n"
       ]
      },
      {
       "output_type": "stream",
       "stream": "stderr",
       "text": [
        "INFO:__main__:[u'4.5', u'4.5', u'4', u'4.5', u'3.5', u'4.5']\n"
       ]
      },
      {
       "output_type": "stream",
       "stream": "stderr",
       "text": [
        "[2015-04-06 11:12:45,201] [u'4.5', u'4.5', u'4.5', u'4.5', u'4', u'4.5']\n"
       ]
      },
      {
       "output_type": "stream",
       "stream": "stderr",
       "text": [
        "INFO:__main__:[u'4.5', u'4.5', u'4.5', u'4.5', u'4', u'4.5']\n"
       ]
      },
      {
       "output_type": "stream",
       "stream": "stderr",
       "text": [
        "[2015-04-06 11:12:49,388] [u'5', u'4.5', u'4.5', u'4.5', u'4', u'4.5']\n"
       ]
      },
      {
       "output_type": "stream",
       "stream": "stderr",
       "text": [
        "INFO:__main__:[u'5', u'4.5', u'4.5', u'4.5', u'4', u'4.5']\n"
       ]
      },
      {
       "output_type": "stream",
       "stream": "stderr",
       "text": [
        "[2015-04-06 11:12:54,175] [u'4.5', u'4', u'4', u'4', u'4', u'4.5']\n"
       ]
      },
      {
       "output_type": "stream",
       "stream": "stderr",
       "text": [
        "INFO:__main__:[u'4.5', u'4', u'4', u'4', u'4', u'4.5']\n"
       ]
      },
      {
       "output_type": "stream",
       "stream": "stderr",
       "text": [
        "[2015-04-06 11:12:59,248] [u'4.5', u'4', u'3.5', u'4', u'4', u'4.5']\n"
       ]
      },
      {
       "output_type": "stream",
       "stream": "stderr",
       "text": [
        "INFO:__main__:[u'4.5', u'4', u'3.5', u'4', u'4', u'4.5']\n"
       ]
      },
      {
       "output_type": "stream",
       "stream": "stderr",
       "text": [
        "[2015-04-06 11:13:03,939] [u'4.5', u'4', u'4', u'4.5', u'4', u'4']\n"
       ]
      },
      {
       "output_type": "stream",
       "stream": "stderr",
       "text": [
        "INFO:__main__:[u'4.5', u'4', u'4', u'4.5', u'4', u'4']\n"
       ]
      },
      {
       "output_type": "stream",
       "stream": "stderr",
       "text": [
        "[2015-04-06 11:13:09,075] [u'4.5', u'4.5', u'4', u'4', u'3.5', u'4.5']\n"
       ]
      },
      {
       "output_type": "stream",
       "stream": "stderr",
       "text": [
        "INFO:__main__:[u'4.5', u'4.5', u'4', u'4', u'3.5', u'4.5']\n"
       ]
      },
      {
       "output_type": "stream",
       "stream": "stderr",
       "text": [
        "[2015-04-06 11:13:13,381] [u'4.5', u'4', u'4', u'4', u'3.5', u'4.5']\n"
       ]
      },
      {
       "output_type": "stream",
       "stream": "stderr",
       "text": [
        "INFO:__main__:[u'4.5', u'4', u'4', u'4', u'3.5', u'4.5']\n"
       ]
      },
      {
       "output_type": "stream",
       "stream": "stderr",
       "text": [
        "[2015-04-06 11:13:18,314] [u'4.5', u'4.5', u'4.5', u'4.5', u'4', u'4.5']\n"
       ]
      },
      {
       "output_type": "stream",
       "stream": "stderr",
       "text": [
        "INFO:__main__:[u'4.5', u'4.5', u'4.5', u'4.5', u'4', u'4.5']\n"
       ]
      },
      {
       "output_type": "stream",
       "stream": "stderr",
       "text": [
        "[2015-04-06 11:13:23,010] [u'5', u'4', u'4', u'4.5', u'3.5', u'4.5']\n"
       ]
      },
      {
       "output_type": "stream",
       "stream": "stderr",
       "text": [
        "INFO:__main__:[u'5', u'4', u'4', u'4.5', u'3.5', u'4.5']\n"
       ]
      },
      {
       "output_type": "stream",
       "stream": "stderr",
       "text": [
        "[2015-04-06 11:13:27,899] [u'4.5', u'4.5', u'4', u'4.5', u'4', u'4.5']\n"
       ]
      },
      {
       "output_type": "stream",
       "stream": "stderr",
       "text": [
        "INFO:__main__:[u'4.5', u'4.5', u'4', u'4.5', u'4', u'4.5']\n"
       ]
      },
      {
       "output_type": "stream",
       "stream": "stderr",
       "text": [
        "[2015-04-06 11:13:32,352] [u'4', u'3.5', u'4.5', u'4', u'4', u'4.5']\n"
       ]
      },
      {
       "output_type": "stream",
       "stream": "stderr",
       "text": [
        "INFO:__main__:[u'4', u'3.5', u'4.5', u'4', u'4', u'4.5']\n"
       ]
      },
      {
       "output_type": "stream",
       "stream": "stderr",
       "text": [
        "[2015-04-06 11:13:36,998] [u'4', u'3.5', u'4', u'4', u'4', u'4']\n"
       ]
      },
      {
       "output_type": "stream",
       "stream": "stderr",
       "text": [
        "INFO:__main__:[u'4', u'3.5', u'4', u'4', u'4', u'4']\n"
       ]
      },
      {
       "output_type": "stream",
       "stream": "stderr",
       "text": [
        "[2015-04-06 11:13:41,918] [u'5', u'5', u'4.5', u'5', u'4', u'5']\n"
       ]
      },
      {
       "output_type": "stream",
       "stream": "stderr",
       "text": [
        "INFO:__main__:[u'5', u'5', u'4.5', u'5', u'4', u'5']\n"
       ]
      },
      {
       "output_type": "stream",
       "stream": "stderr",
       "text": [
        "[2015-04-06 11:13:46,262] [u'4.5', u'4.5', u'4', u'4.5', u'4', u'4.5']\n"
       ]
      },
      {
       "output_type": "stream",
       "stream": "stderr",
       "text": [
        "INFO:__main__:[u'4.5', u'4.5', u'4', u'4.5', u'4', u'4.5']\n"
       ]
      },
      {
       "output_type": "stream",
       "stream": "stderr",
       "text": [
        "[2015-04-06 11:13:50,468] [u'4.5', u'4.5', u'4.5', u'4.5', u'4', u'4.5']\n"
       ]
      },
      {
       "output_type": "stream",
       "stream": "stderr",
       "text": [
        "INFO:__main__:[u'4.5', u'4.5', u'4.5', u'4.5', u'4', u'4.5']\n"
       ]
      },
      {
       "output_type": "stream",
       "stream": "stderr",
       "text": [
        "[2015-04-06 11:13:55,387] [u'4', u'3.5', u'4', u'4', u'3.5', u'4']\n"
       ]
      },
      {
       "output_type": "stream",
       "stream": "stderr",
       "text": [
        "INFO:__main__:[u'4', u'3.5', u'4', u'4', u'3.5', u'4']\n"
       ]
      },
      {
       "output_type": "stream",
       "stream": "stderr",
       "text": [
        "[2015-04-06 11:13:59,845] [u'4.5', u'4', u'4', u'4', u'3.5', u'4.5']\n"
       ]
      },
      {
       "output_type": "stream",
       "stream": "stderr",
       "text": [
        "INFO:__main__:[u'4.5', u'4', u'4', u'4', u'3.5', u'4.5']\n"
       ]
      },
      {
       "output_type": "stream",
       "stream": "stderr",
       "text": [
        "[2015-04-06 11:14:04,339] [u'4', u'4', u'3.5', u'4', u'4', u'4']\n"
       ]
      },
      {
       "output_type": "stream",
       "stream": "stderr",
       "text": [
        "INFO:__main__:[u'4', u'4', u'3.5', u'4', u'4', u'4']\n"
       ]
      },
      {
       "output_type": "stream",
       "stream": "stderr",
       "text": [
        "[2015-04-06 11:14:08,625] [u'4.5', u'4.5', u'4.5', u'4.5', u'4', u'4.5']\n"
       ]
      },
      {
       "output_type": "stream",
       "stream": "stderr",
       "text": [
        "INFO:__main__:[u'4.5', u'4.5', u'4.5', u'4.5', u'4', u'4.5']\n"
       ]
      },
      {
       "output_type": "stream",
       "stream": "stderr",
       "text": [
        "[2015-04-06 11:14:13,244] [u'4.5', u'3.5', u'4', u'4', u'3.5', u'4.5']\n"
       ]
      },
      {
       "output_type": "stream",
       "stream": "stderr",
       "text": [
        "INFO:__main__:[u'4.5', u'3.5', u'4', u'4', u'3.5', u'4.5']\n"
       ]
      },
      {
       "output_type": "stream",
       "stream": "stderr",
       "text": [
        "[2015-04-06 11:14:18,003] [u'4.5', u'4', u'4', u'4', u'4', u'4.5']\n"
       ]
      },
      {
       "output_type": "stream",
       "stream": "stderr",
       "text": [
        "INFO:__main__:[u'4.5', u'4', u'4', u'4', u'4', u'4.5']\n"
       ]
      },
      {
       "output_type": "stream",
       "stream": "stderr",
       "text": [
        "[2015-04-06 11:14:23,135] [u'4.5', u'3.5', u'3.5', u'3.5', u'4', u'3.5']\n"
       ]
      },
      {
       "output_type": "stream",
       "stream": "stderr",
       "text": [
        "INFO:__main__:[u'4.5', u'3.5', u'3.5', u'3.5', u'4', u'3.5']\n"
       ]
      },
      {
       "output_type": "stream",
       "stream": "stderr",
       "text": [
        "[2015-04-06 11:14:27,853] [u'4.5', u'4', u'4.5', u'4.5', u'4', u'4.5']\n"
       ]
      },
      {
       "output_type": "stream",
       "stream": "stderr",
       "text": [
        "INFO:__main__:[u'4.5', u'4', u'4.5', u'4.5', u'4', u'4.5']\n"
       ]
      },
      {
       "output_type": "stream",
       "stream": "stderr",
       "text": [
        "[2015-04-06 11:14:32,313] [u'4', u'4', u'4', u'4', u'4', u'4.5']\n"
       ]
      },
      {
       "output_type": "stream",
       "stream": "stderr",
       "text": [
        "INFO:__main__:[u'4', u'4', u'4', u'4', u'4', u'4.5']\n"
       ]
      },
      {
       "output_type": "stream",
       "stream": "stderr",
       "text": [
        "[2015-04-06 11:14:38,369] [u'5', u'4.5', u'4', u'4', u'4', u'4.5']\n"
       ]
      },
      {
       "output_type": "stream",
       "stream": "stderr",
       "text": [
        "INFO:__main__:[u'5', u'4.5', u'4', u'4', u'4', u'4.5']\n"
       ]
      },
      {
       "output_type": "stream",
       "stream": "stderr",
       "text": [
        "[2015-04-06 11:14:42,999] [u'4', u'3.5', u'4', u'4', u'4', u'4']\n"
       ]
      },
      {
       "output_type": "stream",
       "stream": "stderr",
       "text": [
        "INFO:__main__:[u'4', u'3.5', u'4', u'4', u'4', u'4']\n"
       ]
      },
      {
       "output_type": "stream",
       "stream": "stderr",
       "text": [
        "[2015-04-06 11:14:46,979] [u'5', u'4', u'4', u'4', u'4', u'4.5']\n"
       ]
      },
      {
       "output_type": "stream",
       "stream": "stderr",
       "text": [
        "INFO:__main__:[u'5', u'4', u'4', u'4', u'4', u'4.5']\n"
       ]
      },
      {
       "output_type": "stream",
       "stream": "stderr",
       "text": [
        "[2015-04-06 11:14:51,091] [u'5', u'5', u'4.5', u'4.5', u'4', u'5']\n"
       ]
      },
      {
       "output_type": "stream",
       "stream": "stderr",
       "text": [
        "INFO:__main__:[u'5', u'5', u'4.5', u'4.5', u'4', u'5']\n"
       ]
      },
      {
       "output_type": "stream",
       "stream": "stderr",
       "text": [
        "[2015-04-06 11:14:55,092] [u'4.5', u'3.5', u'3.5', u'4', u'3.5', u'4']\n"
       ]
      },
      {
       "output_type": "stream",
       "stream": "stderr",
       "text": [
        "INFO:__main__:[u'4.5', u'3.5', u'3.5', u'4', u'3.5', u'4']\n"
       ]
      },
      {
       "output_type": "stream",
       "stream": "stderr",
       "text": [
        "[2015-04-06 11:14:59,195] [u'5', u'4.5', u'4.5', u'4.5', u'4', u'4.5']\n"
       ]
      },
      {
       "output_type": "stream",
       "stream": "stderr",
       "text": [
        "INFO:__main__:[u'5', u'4.5', u'4.5', u'4.5', u'4', u'4.5']\n"
       ]
      },
      {
       "output_type": "stream",
       "stream": "stderr",
       "text": [
        "[2015-04-06 11:15:03,185] [u'4.5', u'4.5', u'4.5', u'4.5', u'4', u'4.5']\n"
       ]
      },
      {
       "output_type": "stream",
       "stream": "stderr",
       "text": [
        "INFO:__main__:[u'4.5', u'4.5', u'4.5', u'4.5', u'4', u'4.5']\n"
       ]
      },
      {
       "output_type": "stream",
       "stream": "stderr",
       "text": [
        "[2015-04-06 11:15:07,268] [u'4', u'4', u'4', u'4', u'3.5', u'4']\n"
       ]
      },
      {
       "output_type": "stream",
       "stream": "stderr",
       "text": [
        "INFO:__main__:[u'4', u'4', u'4', u'4', u'3.5', u'4']\n"
       ]
      },
      {
       "output_type": "stream",
       "stream": "stderr",
       "text": [
        "[2015-04-06 11:15:11,275] [u'5', u'4.5', u'4.5', u'4.5', u'4.5', u'4.5']\n"
       ]
      },
      {
       "output_type": "stream",
       "stream": "stderr",
       "text": [
        "INFO:__main__:[u'5', u'4.5', u'4.5', u'4.5', u'4.5', u'4.5']\n"
       ]
      },
      {
       "output_type": "stream",
       "stream": "stderr",
       "text": [
        "[2015-04-06 11:15:15,286] [u'4.5', u'4.5', u'5', u'4.5', u'4', u'5']\n"
       ]
      },
      {
       "output_type": "stream",
       "stream": "stderr",
       "text": [
        "INFO:__main__:[u'4.5', u'4.5', u'5', u'4.5', u'4', u'5']\n"
       ]
      },
      {
       "output_type": "stream",
       "stream": "stderr",
       "text": [
        "[2015-04-06 11:15:19,241] [u'4', u'3.5', u'4.5', u'4', u'4', u'4.5']\n"
       ]
      },
      {
       "output_type": "stream",
       "stream": "stderr",
       "text": [
        "INFO:__main__:[u'4', u'3.5', u'4.5', u'4', u'4', u'4.5']\n"
       ]
      },
      {
       "output_type": "stream",
       "stream": "stderr",
       "text": [
        "[2015-04-06 11:15:23,173] [u'5', u'4', u'4', u'4', u'4', u'4.5']\n"
       ]
      },
      {
       "output_type": "stream",
       "stream": "stderr",
       "text": [
        "INFO:__main__:[u'5', u'4', u'4', u'4', u'4', u'4.5']\n"
       ]
      },
      {
       "output_type": "stream",
       "stream": "stderr",
       "text": [
        "[2015-04-06 11:15:27,243] [u'3.5', u'3', u'3.5', u'3.5', u'3.5', u'4']\n"
       ]
      },
      {
       "output_type": "stream",
       "stream": "stderr",
       "text": [
        "INFO:__main__:[u'3.5', u'3', u'3.5', u'3.5', u'3.5', u'4']\n"
       ]
      },
      {
       "output_type": "stream",
       "stream": "stderr",
       "text": [
        "[2015-04-06 11:15:31,347] [u'4.5', u'3.5', u'3', u'3.5', u'3.5', u'3.5']\n"
       ]
      },
      {
       "output_type": "stream",
       "stream": "stderr",
       "text": [
        "INFO:__main__:[u'4.5', u'3.5', u'3', u'3.5', u'3.5', u'3.5']\n"
       ]
      },
      {
       "output_type": "stream",
       "stream": "stderr",
       "text": [
        "[2015-04-06 11:15:35,492] [u'4.5', u'3.5', u'3', u'3.5', u'3.5', u'3.5']\n"
       ]
      },
      {
       "output_type": "stream",
       "stream": "stderr",
       "text": [
        "INFO:__main__:[u'4.5', u'3.5', u'3', u'3.5', u'3.5', u'3.5']\n"
       ]
      },
      {
       "output_type": "stream",
       "stream": "stderr",
       "text": [
        "[2015-04-06 11:15:39,620] [u'4', u'3', u'3', u'3.5', u'3', u'3.5']\n"
       ]
      },
      {
       "output_type": "stream",
       "stream": "stderr",
       "text": [
        "INFO:__main__:[u'4', u'3', u'3', u'3.5', u'3', u'3.5']\n"
       ]
      },
      {
       "output_type": "stream",
       "stream": "stderr",
       "text": [
        "[2015-04-06 11:15:43,700] [u'3.5', u'3.5', u'3', u'3.5', u'3.5', u'3.5']\n"
       ]
      },
      {
       "output_type": "stream",
       "stream": "stderr",
       "text": [
        "INFO:__main__:[u'3.5', u'3.5', u'3', u'3.5', u'3.5', u'3.5']\n"
       ]
      },
      {
       "output_type": "stream",
       "stream": "stderr",
       "text": [
        "[2015-04-06 11:15:48,245] [u'4.5', u'3.5', u'2.5', u'3.5', u'3.5', u'3.5']\n"
       ]
      },
      {
       "output_type": "stream",
       "stream": "stderr",
       "text": [
        "INFO:__main__:[u'4.5', u'3.5', u'2.5', u'3.5', u'3.5', u'3.5']\n"
       ]
      },
      {
       "output_type": "stream",
       "stream": "stderr",
       "text": [
        "[2015-04-06 11:15:52,274] [u'3.5', u'3.5', u'3', u'3.5', u'3.5', u'3.5']\n"
       ]
      },
      {
       "output_type": "stream",
       "stream": "stderr",
       "text": [
        "INFO:__main__:[u'3.5', u'3.5', u'3', u'3.5', u'3.5', u'3.5']\n"
       ]
      },
      {
       "output_type": "stream",
       "stream": "stderr",
       "text": [
        "[2015-04-06 11:15:56,166] [u'3.5', u'3', u'3', u'3', u'3', u'3']\n"
       ]
      },
      {
       "output_type": "stream",
       "stream": "stderr",
       "text": [
        "INFO:__main__:[u'3.5', u'3', u'3', u'3', u'3', u'3']\n"
       ]
      },
      {
       "output_type": "stream",
       "stream": "stderr",
       "text": [
        "[2015-04-06 11:15:59,905] [u'3', u'2.5', u'2.5', u'2.5', u'3', u'3']\n"
       ]
      },
      {
       "output_type": "stream",
       "stream": "stderr",
       "text": [
        "INFO:__main__:[u'3', u'2.5', u'2.5', u'2.5', u'3', u'3']\n"
       ]
      }
     ],
     "prompt_number": 8
    },
    {
     "cell_type": "code",
     "collapsed": false,
     "input": [
      "bhotel = bhotel.convert_objects(convert_numeric=True)\n",
      "bhotel.fillna(0, inplace = True)\n",
      "bhotel['rating_average']= ((bhotel['terrible_rating']*1) + (bhotel['poor_rating']*2) + (bhotel['average_rating']*3) + \n",
      "                           (bhotel['very_good_rating']*4) + (bhotel['excellent_rating']*5))\n",
      "bhotel['rating_average'] = bhotel['rating_average']/(bhotel['terrible_rating'] + bhotel['poor_rating'] + bhotel['average_rating'] + bhotel['very_good_rating'] + bhotel['excellent_rating'])\n",
      "for idx, row in bhotel.iterrows():\n",
      "    if row.rating_average > 4.5:\n",
      "        bhotel.ix[idx,'group']=5\n",
      "    elif 3.5 < row.rating_average <=4.5:\n",
      "        bhotel.ix[idx,'group'] = 4\n",
      "    elif 2.5 < row.rating_average <=3.5:\n",
      "        bhotel.ix[idx,'group'] = 3\n",
      "    else:\n",
      "        bhotel.ix[idx,'group'] = 2\n",
      "\n",
      "bhotel.head()"
     ],
     "language": "python",
     "metadata": {},
     "outputs": [
      {
       "html": [
        "<div style=\"max-height:1000px;max-width:1500px;overflow:auto;\">\n",
        "<table border=\"1\" class=\"dataframe\">\n",
        "  <thead>\n",
        "    <tr style=\"text-align: right;\">\n",
        "      <th></th>\n",
        "      <th>average_rating</th>\n",
        "      <th>business_count</th>\n",
        "      <th>cleanliness</th>\n",
        "      <th>couples_count</th>\n",
        "      <th>excellent_rating</th>\n",
        "      <th>family_count</th>\n",
        "      <th>location</th>\n",
        "      <th>poor_rating</th>\n",
        "      <th>rooms</th>\n",
        "      <th>service</th>\n",
        "      <th>sleep_quality</th>\n",
        "      <th>solo_count</th>\n",
        "      <th>terrible_rating</th>\n",
        "      <th>value</th>\n",
        "      <th>very_good_rating</th>\n",
        "      <th>rating_average</th>\n",
        "      <th>group</th>\n",
        "    </tr>\n",
        "    <tr>\n",
        "      <th>hotel_name</th>\n",
        "      <th></th>\n",
        "      <th></th>\n",
        "      <th></th>\n",
        "      <th></th>\n",
        "      <th></th>\n",
        "      <th></th>\n",
        "      <th></th>\n",
        "      <th></th>\n",
        "      <th></th>\n",
        "      <th></th>\n",
        "      <th></th>\n",
        "      <th></th>\n",
        "      <th></th>\n",
        "      <th></th>\n",
        "      <th></th>\n",
        "      <th></th>\n",
        "      <th></th>\n",
        "    </tr>\n",
        "  </thead>\n",
        "  <tbody>\n",
        "    <tr>\n",
        "      <th>Seaport Boston Hotel</th>\n",
        "      <td>  98</td>\n",
        "      <td>   0</td>\n",
        "      <td> 5.0</td>\n",
        "      <td> 552</td>\n",
        "      <td>   0</td>\n",
        "      <td> 461</td>\n",
        "      <td> 4.5</td>\n",
        "      <td> 33</td>\n",
        "      <td> 4.5</td>\n",
        "      <td> 4.5</td>\n",
        "      <td> 4.5</td>\n",
        "      <td> 108</td>\n",
        "      <td> 31</td>\n",
        "      <td> 4.5</td>\n",
        "      <td> 506</td>\n",
        "      <td> 3.615269</td>\n",
        "      <td> 4</td>\n",
        "    </tr>\n",
        "    <tr>\n",
        "      <th>Hyatt Boston Harbor Hotel</th>\n",
        "      <td> 166</td>\n",
        "      <td> 329</td>\n",
        "      <td> 4.5</td>\n",
        "      <td> 335</td>\n",
        "      <td> 480</td>\n",
        "      <td> 240</td>\n",
        "      <td> 4.0</td>\n",
        "      <td> 67</td>\n",
        "      <td> 4.0</td>\n",
        "      <td> 4.5</td>\n",
        "      <td> 4.5</td>\n",
        "      <td> 105</td>\n",
        "      <td> 34</td>\n",
        "      <td> 4.0</td>\n",
        "      <td> 424</td>\n",
        "      <td> 4.066610</td>\n",
        "      <td> 4</td>\n",
        "    </tr>\n",
        "    <tr>\n",
        "      <th>Hotel Commonwealth, Boston</th>\n",
        "      <td>  81</td>\n",
        "      <td> 585</td>\n",
        "      <td> 5.0</td>\n",
        "      <td> 853</td>\n",
        "      <td>   0</td>\n",
        "      <td> 915</td>\n",
        "      <td> 5.0</td>\n",
        "      <td> 39</td>\n",
        "      <td> 5.0</td>\n",
        "      <td> 5.0</td>\n",
        "      <td> 5.0</td>\n",
        "      <td> 147</td>\n",
        "      <td> 13</td>\n",
        "      <td> 4.5</td>\n",
        "      <td> 442</td>\n",
        "      <td> 3.655652</td>\n",
        "      <td> 4</td>\n",
        "    </tr>\n",
        "    <tr>\n",
        "      <th>Boston Harbor Hotel</th>\n",
        "      <td>  44</td>\n",
        "      <td> 255</td>\n",
        "      <td> 5.0</td>\n",
        "      <td> 462</td>\n",
        "      <td> 991</td>\n",
        "      <td> 284</td>\n",
        "      <td> 4.5</td>\n",
        "      <td> 15</td>\n",
        "      <td> 4.5</td>\n",
        "      <td> 5.0</td>\n",
        "      <td> 5.0</td>\n",
        "      <td>  55</td>\n",
        "      <td> 11</td>\n",
        "      <td> 4.5</td>\n",
        "      <td> 189</td>\n",
        "      <td> 4.707200</td>\n",
        "      <td> 5</td>\n",
        "    </tr>\n",
        "    <tr>\n",
        "      <th>enVision Hotel Boston</th>\n",
        "      <td>  21</td>\n",
        "      <td>  64</td>\n",
        "      <td> 5.0</td>\n",
        "      <td> 102</td>\n",
        "      <td> 246</td>\n",
        "      <td> 104</td>\n",
        "      <td> 4.0</td>\n",
        "      <td>  7</td>\n",
        "      <td> 4.5</td>\n",
        "      <td> 4.5</td>\n",
        "      <td> 4.5</td>\n",
        "      <td>  29</td>\n",
        "      <td>  1</td>\n",
        "      <td> 4.5</td>\n",
        "      <td>  85</td>\n",
        "      <td> 4.577778</td>\n",
        "      <td> 5</td>\n",
        "    </tr>\n",
        "  </tbody>\n",
        "</table>\n",
        "</div>"
       ],
       "metadata": {},
       "output_type": "pyout",
       "prompt_number": 45,
       "text": [
        "                            average_rating  business_count  cleanliness  \\\n",
        "hotel_name                                                                \n",
        "Seaport Boston Hotel                    98               0          5.0   \n",
        "Hyatt Boston Harbor Hotel              166             329          4.5   \n",
        "Hotel Commonwealth, Boston              81             585          5.0   \n",
        "Boston Harbor Hotel                     44             255          5.0   \n",
        "enVision Hotel Boston                   21              64          5.0   \n",
        "\n",
        "                            couples_count  excellent_rating  family_count  \\\n",
        "hotel_name                                                                  \n",
        "Seaport Boston Hotel                  552                 0           461   \n",
        "Hyatt Boston Harbor Hotel             335               480           240   \n",
        "Hotel Commonwealth, Boston            853                 0           915   \n",
        "Boston Harbor Hotel                   462               991           284   \n",
        "enVision Hotel Boston                 102               246           104   \n",
        "\n",
        "                            location  poor_rating  rooms  service  \\\n",
        "hotel_name                                                          \n",
        "Seaport Boston Hotel             4.5           33    4.5      4.5   \n",
        "Hyatt Boston Harbor Hotel        4.0           67    4.0      4.5   \n",
        "Hotel Commonwealth, Boston       5.0           39    5.0      5.0   \n",
        "Boston Harbor Hotel              4.5           15    4.5      5.0   \n",
        "enVision Hotel Boston            4.0            7    4.5      4.5   \n",
        "\n",
        "                            sleep_quality  solo_count  terrible_rating  value  \\\n",
        "hotel_name                                                                      \n",
        "Seaport Boston Hotel                  4.5         108               31    4.5   \n",
        "Hyatt Boston Harbor Hotel             4.5         105               34    4.0   \n",
        "Hotel Commonwealth, Boston            5.0         147               13    4.5   \n",
        "Boston Harbor Hotel                   5.0          55               11    4.5   \n",
        "enVision Hotel Boston                 4.5          29                1    4.5   \n",
        "\n",
        "                            very_good_rating  rating_average  group  \n",
        "hotel_name                                                           \n",
        "Seaport Boston Hotel                     506        3.615269      4  \n",
        "Hyatt Boston Harbor Hotel                424        4.066610      4  \n",
        "Hotel Commonwealth, Boston               442        3.655652      4  \n",
        "Boston Harbor Hotel                      189        4.707200      5  \n",
        "enVision Hotel Boston                     85        4.577778      5  "
       ]
      }
     ],
     "prompt_number": 45
    },
    {
     "cell_type": "code",
     "collapsed": false,
     "input": [
      "X = bhotel[['business_count','cleanliness', 'couples_count', 'family_count', \n",
      "            'location', 'rooms', 'service', 'sleep_quality', 'solo_count', 'value']]\n",
      "\n",
      "X.head()\n",
      "y= bhotel['group']\n",
      "y\n",
      "X_train, X_test, y_train, y_test = cross_validation.train_test_split(X, y, test_size=0.4, random_state=0)\n",
      "print(X_train.shape), y_train.shape\n",
      "print(X_test.shape), y_test.shape\n",
      "\n",
      "fig, axes = plt.subplots(2,5,figsize=(15,10), squeeze=False)\n",
      "\n",
      "\n",
      "for i in range(10):\n",
      "    plt_i = i // 5\n",
      "    plt_j = i % 5\n",
      "    subX_train = X_train[:,i]\n",
      "    axes[plt_i][plt_j].scatter(subX_train, y_train, c=\"slategray\", alpha=0.4, linewidths=0.3)\n",
      "    axes[plt_i][plt_j].set_xlabel('Data')\n",
      "    axes[plt_i][plt_j].set_ylabel('Group') \n",
      "    axes[plt_i][plt_j].set_xticklabels([]);"
     ],
     "language": "python",
     "metadata": {},
     "outputs": [
      {
       "output_type": "stream",
       "stream": "stdout",
       "text": [
        "(46, 10) (46,)\n",
        "(31, 10) (31,)\n"
       ]
      },
      {
       "metadata": {},
       "output_type": "display_data",
       "png": "[encoded data removed]",
       "text": [
        "<matplotlib.figure.Figure at 0x7fd758b0ba50>"
       ]
      }
     ],
     "prompt_number": 11
    },
    {
     "cell_type": "code",
     "collapsed": false,
     "input": [
      "regr = linear_model.LinearRegression()\n",
      "regr.fit(X_train, y_train)\n",
      "\n",
      "train_score = regr.score(X_train,y_train)\n",
      "test_score = regr.score(X_test,y_test)\n",
      "print(\"Training score: \", train_score)\n",
      "print(\"Test     score: \", test_score)\n",
      "\n",
      "coefficients = regr.coef_\n",
      "\n",
      "subX_train = X_train[:,1]\n",
      "subX_test = X_test[:,1]\n",
      "plt.scatter(subX_train, y_train, c=\"slategray\", alpha=0.4, linewidths=0.3)\n",
      "plt.plot(subX_train, coefficients[1]*subX_train, color='seagreen', linewidth=3, alpha=.8);\n",
      "plt.xlabel('Cleanliness')\n",
      "plt.ylabel('Group');"
     ],
     "language": "python",
     "metadata": {},
     "outputs": [
      {
       "output_type": "stream",
       "stream": "stdout",
       "text": [
        "('Training score: ', 0.71728418118628856)\n",
        "('Test     score: ', 0.46736688125790826)\n"
       ]
      },
      {
       "metadata": {},
       "output_type": "display_data",
       "png": "[encoded data removed]",
       "text": [
        "<matplotlib.figure.Figure at 0x7fd7a51ecfd0>"
       ]
      }
     ],
     "prompt_number": 44
    },
    {
     "cell_type": "code",
     "collapsed": false,
     "input": [
      "model = sm.OLS(y, X)\n",
      "results = model.fit()\n",
      "print results.summary()\n",
      "print \"Confidence Intervals:\", results.conf_int()\n",
      "print \"Parameters:\", results.params"
     ],
     "language": "python",
     "metadata": {},
     "outputs": [
      {
       "output_type": "stream",
       "stream": "stdout",
       "text": [
        "                            OLS Regression Results                            \n",
        "==============================================================================\n",
        "Dep. Variable:                  group   R-squared:                       0.993\n",
        "Model:                            OLS   Adj. R-squared:                  0.992\n",
        "Method:                 Least Squares   F-statistic:                     934.4\n",
        "Date:                Mon, 06 Apr 2015   Prob (F-statistic):           7.74e-68\n",
        "Time:                        11:19:02   Log-Likelihood:                -25.934\n",
        "No. Observations:                  77   AIC:                             71.87\n",
        "Df Residuals:                      67   BIC:                             95.31\n",
        "Df Model:                          10                                         \n",
        "==================================================================================\n",
        "                     coef    std err          t      P>|t|      [95.0% Conf. Int.]\n",
        "----------------------------------------------------------------------------------\n",
        "business_count     0.0006      0.000      1.772      0.081     -7.73e-05     0.001\n",
        "cleanliness        0.5118      0.214      2.395      0.019         0.085     0.938\n",
        "couples_count     -0.0004      0.000     -1.275      0.207        -0.001     0.000\n",
        "family_count      -0.0008      0.000     -2.154      0.035        -0.002 -6.15e-05\n",
        "location           0.1141      0.178      0.642      0.523        -0.240     0.469\n",
        "rooms              0.0998      0.190      0.527      0.600        -0.279     0.478\n",
        "service           -0.1018      0.237     -0.429      0.669        -0.575     0.372\n",
        "sleep_quality      0.0663      0.150      0.443      0.659        -0.232     0.365\n",
        "solo_count        -0.0026      0.001     -1.907      0.061        -0.005     0.000\n",
        "value              0.3422      0.175      1.954      0.055        -0.007     0.692\n",
        "==============================================================================\n",
        "Omnibus:                        5.658   Durbin-Watson:                   2.085\n",
        "Prob(Omnibus):                  0.059   Jarque-Bera (JB):                4.994\n",
        "Skew:                          -0.489   Prob(JB):                       0.0823\n",
        "Kurtosis:                       3.776   Cond. No.                     3.29e+03\n",
        "==============================================================================\n",
        "\n",
        "Warnings:\n",
        "[1] The condition number is large, 3.29e+03. This might indicate that there are\n",
        "strong multicollinearity or other numerical problems.\n",
        "Confidence Intervals:                        0         1\n",
        "business_count -0.000077  0.001299\n",
        "cleanliness     0.085257  0.938351\n",
        "couples_count  -0.000915  0.000202\n",
        "family_count   -0.001621 -0.000062\n",
        "location       -0.240478  0.468726\n",
        "rooms          -0.278575  0.478271\n",
        "service        -0.575152  0.371546\n",
        "sleep_quality  -0.232491  0.365158\n",
        "solo_count     -0.005237  0.000120\n",
        "value          -0.007334  0.691712\n",
        "Parameters: business_count    0.000611\n",
        "cleanliness       0.511804\n",
        "couples_count    -0.000357\n",
        "family_count     -0.000841\n",
        "location          0.114124\n",
        "rooms             0.099848\n",
        "service          -0.101803\n",
        "sleep_quality     0.066334\n",
        "solo_count       -0.002559\n",
        "value             0.342189\n",
        "dtype: float64\n"
       ]
      }
     ],
     "prompt_number": 13
    },
    {
     "cell_type": "markdown",
     "metadata": {},
     "source": [
      "From the regression models we can see that there are a number of parameters which correlate with the hotels average rating, and a number that dont.  None of the values associated with who uses the hotel, business people, couples, families, ect, have a linear relationship with rankings.  From this we can conclude that the demographics of a hotel are not a good predictor of its quality.  other rating based values such as cleanliness and value, do see a more linear relationship with average rating.  This makes sense as both ratings are on a scale from 0 to 5, and low rankings for individual quality would most likely result in someone rating the hotel poorly overall.\n",
      "\n",
      "Despite the linear relationship for some categories the linear regression model provided a poor estimator for predicting the average rating group for a hotel.  While the score for the training data was 0.74, the test score was only 0.37.  This strongly suggests that the data does not fit a linear model when it comes to predicting average hotel rating.  Within the parameters, cleanliness and value had the highest coefficients, indicating they were the factors that most strongly affect a hotels rating.  Intuitively this makes sense, as no one wants a dirty hotel room, and everyone is looking for a deal."
     ]
    },
    {
     "cell_type": "code",
     "collapsed": false,
     "input": [
      "X_train, X_test, y_train, y_test = cross_validation.train_test_split(X,\n",
      "                                                                     y,\n",
      "                                                                     test_size=0.3,\n",
      "                                                                     random_state=0\n",
      "                                                                     )\n",
      "logistic_regr = linear_model.LogisticRegression()\n",
      "logistic_regr.fit(X_train, y_train)\n",
      "y_predicted = logistic_regr.predict(X_test)\n",
      "\n",
      "print \"Accuracy\", metrics.accuracy_score(y_test, y_predicted)\n",
      "\n",
      "print pd.DataFrame(zip(X.columns, np.transpose(logistic_regr.coef_))).values\n",
      "print np.mean(np.abs(pd.DataFrame(zip(X.columns, np.transpose(logistic_regr.coef_)))[1].apply(np.ndarray.tolist).tolist()), axis =1)"
     ],
     "language": "python",
     "metadata": {},
     "outputs": [
      {
       "output_type": "stream",
       "stream": "stdout",
       "text": [
        "Accuracy 0.75\n",
        "[['business_count'\n",
        "  array([-0.13904146,  0.00068316,  0.0022748 ,  0.00175576])]\n",
        " ['cleanliness' array([-0.13775987, -0.53259573,  0.08427692,  0.10346928])]\n",
        " ['couples_count'\n",
        "  array([-0.1389734 , -0.00296924,  0.00577474, -0.00118237])]\n",
        " ['family_count'\n",
        "  array([ 0.03891341, -0.00526837,  0.00137771, -0.00464452])]\n",
        " ['location' array([-0.11497833, -0.03611332, -0.23986168,  0.33305243])]\n",
        " ['rooms' array([-0.11469376, -0.6098567 ,  0.04628265,  0.28293468])]\n",
        " ['service' array([-0.11466185, -0.0223549 ,  0.03255641, -0.01790992])]\n",
        " ['sleep_quality'\n",
        "  array([-0.13801604,  0.13129598, -0.17913598, -0.14602365])]\n",
        " ['solo_count' array([-0.09946136,  0.02141726, -0.00986408, -0.03162127])]\n",
        " ['value' array([-0.13807629,  0.42008913,  0.09664295, -0.17415709])]]\n",
        "[ 0.03593879  0.21452545  0.03722494  0.012551    0.18100144  0.26344195\n",
        "  0.04687077  0.14861791  0.04059099  0.20724137]\n"
       ]
      }
     ],
     "prompt_number": 43
    },
    {
     "cell_type": "markdown",
     "metadata": {},
     "source": [
      "As can be seen by the accuracy score, the logistic regression model does a better job of predicting the average hotel rating than the simple linear regression models, with an accuracy of 0.75.  Looking at the coefficients for the regression models, we again see that the higest coefficients are in the 6 rating based categories, cleanliness, value, location, rooms, service, sleep quality, and the categories recording demographic information have lower coefficients here as well.  In contrast to the linear regression where cleanliness had the highest coefficient, taking the mean of the absolute values of the coefficients in the logistic regression yields the 'rooms' category as the most influential, with mean coefficient of 0.263."
     ]
    },
    {
     "cell_type": "code",
     "collapsed": false,
     "input": [],
     "language": "python",
     "metadata": {},
     "outputs": []
    }
   ],
   "metadata": {}
  }
 ]
}