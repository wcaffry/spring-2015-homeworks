{
 "metadata": {
  "name": "",
  "signature": "sha256:a82b5ee738e386904e7565fcae7a39117ebf050f4b1c6f0cced9a5b6007bde06"
 },
 "nbformat": 3,
 "nbformat_minor": 0,
 "worksheets": [
  {
   "cells": [
    {
     "cell_type": "markdown",
     "metadata": {},
     "source": [
      "(In order to load the stylesheet of this notebook, execute the last code cell in this notebook)"
     ]
    },
    {
     "cell_type": "heading",
     "level": 1,
     "metadata": {},
     "source": [
      "Clustering the data from the Mayor's 24-hour hotline in Boston"
     ]
    },
    {
     "cell_type": "heading",
     "level": 2,
     "metadata": {},
     "source": [
      "Introduction "
     ]
    },
    {
     "cell_type": "markdown",
     "metadata": {},
     "source": [
      "In this assignment, we will do a clustering analysis on the 311 calls that we used in the previous homework. We will focus on choosing a value for k, clustering based on multiple features and detecting outliers.\n",
      "\n",
      "---------------------------"
     ]
    },
    {
     "cell_type": "code",
     "collapsed": false,
     "input": [
      "%matplotlib inline\n",
      "import pandas as pd\n",
      "import numpy as np\n",
      "from datetime import datetime\n",
      "import seaborn as sns\n",
      "from matplotlib import pyplot as plt\n",
      "from matplotlib import colors"
     ],
     "language": "python",
     "metadata": {},
     "outputs": [],
     "prompt_number": 43
    },
    {
     "cell_type": "code",
     "collapsed": false,
     "input": [
      "boston= pd.read_csv('../Homework-2/cases_2015.csv',parse_dates=['OPEN_DT','TARGET_DT','CLOSED_DT'])\n"
     ],
     "language": "python",
     "metadata": {},
     "outputs": [],
     "prompt_number": 44
    },
    {
     "cell_type": "heading",
     "level": 2,
     "metadata": {},
     "source": [
      "Step 1. Simple clustering"
     ]
    },
    {
     "cell_type": "markdown",
     "metadata": {},
     "source": [
      "The first thing that we will try is to cluster the geolocation data of the calls. The geolocation of a record consists of a pair `(latitude, longitude)`, which represents the position of the record on the map. Since the dataset that we have spans only a small geographic location, i.e. Boston, we will use the Euclidean distance when measuring how close two points are. Techinically, we should pick a [projection](https://github.com/mbostock/d3/wiki/Geo-Projections) in order to transform the data into 2d, and measure  the Euclidean distance in the projected space."
     ]
    },
    {
     "cell_type": "markdown",
     "metadata": {},
     "source": [
      "Since we are dealing with numeric data, we might consider centering and normalizing them. In order to do that, check the [StandardScaler](http://scikit-learn.org/stable/modules/generated/sklearn.preprocessing.StandardScaler.html#sklearn.preprocessing.StandardScaler) from `scikit-learn`."
     ]
    },
    {
     "cell_type": "markdown",
     "metadata": {},
     "source": [
      "For exampe, the result of a clustering with 10 clusters is the following:\n",
      "\n",
      "\n",
      "![A clustering of the locations of the calls for k=10](clusters10.png)"
     ]
    },
    {
     "cell_type": "markdown",
     "metadata": {},
     "source": [
      "Filter the dataset to get the latitude and longitude, transform it as required and run the k-means clustering algorithm. Argue about the number of clusters you used. **(pts 50)**"
     ]
    },
    {
     "cell_type": "code",
     "collapsed": false,
     "input": [
      "from sklearn import preprocessing\n",
      "from sklearn.cluster import KMeans\n",
      "geodata = boston[[\"LATITUDE\", \"LONGITUDE\"]]\n",
      "\n",
      "error = np.zeros(11)\n",
      "error[0] = 0;\n",
      "for k in range(1,11):\n",
      "    kmeans = KMeans(init='k-means++', n_clusters=k, n_init=10)\n",
      "    kmeans.fit_predict(geodata)\n",
      "    error[k] = kmeans.inertia_\n",
      "\n",
      "plt.plot(range(1,len(error)),error[1:])\n",
      "plt.xlabel('Number of clusters')\n",
      "plt.ylabel('Error')"
     ],
     "language": "python",
     "metadata": {},
     "outputs": [
      {
       "metadata": {},
       "output_type": "pyout",
       "prompt_number": 45,
       "text": [
        "<matplotlib.text.Text at 0x7ff577d12910>"
       ]
      },
      {
       "metadata": {},
       "output_type": "display_data",
       "png": "[encoded data removed]",
       "text": [
        "<matplotlib.figure.Figure at 0x7ff576bcdc50>"
       ]
      }
     ],
     "prompt_number": 45
    },
    {
     "cell_type": "markdown",
     "metadata": {},
     "source": [
      "Based on the elbow rule, either three or four clusters would be the optimal number of clusters.  However, by adding one more cluster to make the total 5, we can get a clustering that better represents the actual geography and boston neighborhoods."
     ]
    },
    {
     "cell_type": "code",
     "collapsed": false,
     "input": [
      "from sklearn import preprocessing\n",
      "from sklearn.cluster import KMeans\n",
      "\n",
      "boston.head()\n",
      "geodata = boston[[\"LATITUDE\", \"LONGITUDE\"]]\n",
      "#boston[[\"LATITUDE\", \"LONGITUDE\"]].apply().preprocessing.StandardScaler().fit_transform()\n",
      "geodata = preprocessing.StandardScaler().fit_transform(geodata)\n",
      "\n",
      "x=geodata[:,1]\n",
      "y=geodata[:,0]\n",
      "\n",
      "kmeans = KMeans(init='k-means++', n_clusters=5, n_init=10)\n",
      "z = kmeans.fit_predict(geodata)\n",
      "cmspec = plt.get_cmap(\"spectral\")\n",
      "plt.scatter(x,y, c = z, cmap=cmspec, s=(20,20), marker ='+' )\n",
      "\n",
      "\n",
      "print type(z)\n",
      "print kmeans.labels_[0:20]"
     ],
     "language": "python",
     "metadata": {},
     "outputs": [
      {
       "output_type": "stream",
       "stream": "stdout",
       "text": [
        "<type 'numpy.ndarray'>\n",
        "[2 0 0 1 3 3 3 3 1 3 0 2 0 0 1 2 0 0 0 2]\n"
       ]
      },
      {
       "metadata": {},
       "output_type": "display_data",
       "png": "[encoded data removed]",
       "text": [
        "<matplotlib.figure.Figure at 0x7ff5768006d0>"
       ]
      }
     ],
     "prompt_number": 46
    },
    {
     "cell_type": "markdown",
     "metadata": {},
     "source": [
      "-----"
     ]
    },
    {
     "cell_type": "heading",
     "level": 2,
     "metadata": {},
     "source": [
      "Step 2. Using multiple features"
     ]
    },
    {
     "cell_type": "markdown",
     "metadata": {},
     "source": [
      "The next step in our analysis is to use more features than just the geolocation of a record (whose clustering only gives us information about the neighborhoods, which should not be a huge revelation!) Filter the dataset to get more features, transform them as required and compute another clustering. You should argue about the quality of your clustering and use domain knowledge (i.e. the fact that you are locals) to explore the clusters you produced and present them to the reader. **(pts 30)**"
     ]
    },
    {
     "cell_type": "code",
     "collapsed": false,
     "input": [
      "z =pd.Series(z)\n",
      "boston['geogroup']=(z)\n",
      "#boston.head()\n"
     ],
     "language": "python",
     "metadata": {},
     "outputs": [],
     "prompt_number": 47
    },
    {
     "cell_type": "code",
     "collapsed": false,
     "input": [
      "snow=boston[boston['CASE_TITLE'].str.contains('Snow', na=False)]\n",
      "snow =snow.append(boston[boston['CASE_TITLE'].str.contains('Trash', na=False)])\n",
      "\n",
      "snow_lim = snow[['CASE_TITLE','LOCATION_ZIPCODE', 'LATITUDE', 'LONGITUDE', 'geogroup', 'CASE_ENQUIRY_ID']]\n",
      "\n",
      "corr = snow.groupby(['CASE_TITLE', 'LOCATION_ZIPCODE'])['CASE_ENQUIRY_ID'].count()\n",
      "corr = corr.unstack(level=0)\n",
      "corr = corr.fillna(0)\n",
      "\n",
      "corr.head()"
     ],
     "language": "python",
     "metadata": {},
     "outputs": [
      {
       "html": [
        "<div style=\"max-height:1000px;max-width:1500px;overflow:auto;\">\n",
        "<table border=\"1\" class=\"dataframe\">\n",
        "  <thead>\n",
        "    <tr style=\"text-align: right;\">\n",
        "      <th>CASE_TITLE</th>\n",
        "      <th>Christmas Tree Trash: District 04</th>\n",
        "      <th>City/State Snow Issues</th>\n",
        "      <th>Improper Storage of Trash (Barrels)</th>\n",
        "      <th>Misc. Snow Complaint</th>\n",
        "      <th>Missed \" Trash: District 07</th>\n",
        "      <th>Missed \"Other\" Trash: District</th>\n",
        "      <th>Missed \"Other\" Trash: District 02</th>\n",
        "      <th>Missed \"Other\" Trash: District 03</th>\n",
        "      <th>Missed \"Other\" Trash: District 04</th>\n",
        "      <th>Missed \"Other\" Trash: District 05</th>\n",
        "      <th>...</th>\n",
        "      <th>Missed Trash: No Location</th>\n",
        "      <th>PublicWorks: Complaint  Missed Trash  D1B</th>\n",
        "      <th>PublicWorks: Complaint  Missed Trash D7 Dorchester</th>\n",
        "      <th>PublicWorks: Complaint Missed Trash  D1B</th>\n",
        "      <th>PublicWorks: Complaint Missed Trash  D6 West Roxbury</th>\n",
        "      <th>PublicWorks: Complaint Missed Trash D9 East Boston</th>\n",
        "      <th>Request for Snow Plowing</th>\n",
        "      <th>Request for Snow Plowing (Emergency Responder)</th>\n",
        "      <th>Snow Removal</th>\n",
        "      <th>Trash on Vacant Lot</th>\n",
        "    </tr>\n",
        "    <tr>\n",
        "      <th>LOCATION_ZIPCODE</th>\n",
        "      <th></th>\n",
        "      <th></th>\n",
        "      <th></th>\n",
        "      <th></th>\n",
        "      <th></th>\n",
        "      <th></th>\n",
        "      <th></th>\n",
        "      <th></th>\n",
        "      <th></th>\n",
        "      <th></th>\n",
        "      <th></th>\n",
        "      <th></th>\n",
        "      <th></th>\n",
        "      <th></th>\n",
        "      <th></th>\n",
        "      <th></th>\n",
        "      <th></th>\n",
        "      <th></th>\n",
        "      <th></th>\n",
        "      <th></th>\n",
        "      <th></th>\n",
        "    </tr>\n",
        "  </thead>\n",
        "  <tbody>\n",
        "    <tr>\n",
        "      <th>2026</th>\n",
        "      <td> 0</td>\n",
        "      <td> 0</td>\n",
        "      <td> 0</td>\n",
        "      <td> 0</td>\n",
        "      <td> 0</td>\n",
        "      <td> 0</td>\n",
        "      <td> 0</td>\n",
        "      <td> 0</td>\n",
        "      <td> 0</td>\n",
        "      <td> 0</td>\n",
        "      <td>...</td>\n",
        "      <td> 0</td>\n",
        "      <td> 0</td>\n",
        "      <td> 0</td>\n",
        "      <td> 0</td>\n",
        "      <td> 0</td>\n",
        "      <td> 0</td>\n",
        "      <td>   0</td>\n",
        "      <td> 0</td>\n",
        "      <td>  1</td>\n",
        "      <td> 0</td>\n",
        "    </tr>\n",
        "    <tr>\n",
        "      <th>2108</th>\n",
        "      <td> 0</td>\n",
        "      <td> 7</td>\n",
        "      <td> 4</td>\n",
        "      <td> 5</td>\n",
        "      <td> 0</td>\n",
        "      <td> 0</td>\n",
        "      <td> 0</td>\n",
        "      <td> 0</td>\n",
        "      <td> 0</td>\n",
        "      <td> 0</td>\n",
        "      <td>...</td>\n",
        "      <td> 0</td>\n",
        "      <td> 0</td>\n",
        "      <td> 0</td>\n",
        "      <td> 0</td>\n",
        "      <td> 0</td>\n",
        "      <td> 0</td>\n",
        "      <td> 194</td>\n",
        "      <td> 8</td>\n",
        "      <td> 42</td>\n",
        "      <td> 0</td>\n",
        "    </tr>\n",
        "    <tr>\n",
        "      <th>2109</th>\n",
        "      <td> 0</td>\n",
        "      <td> 0</td>\n",
        "      <td> 0</td>\n",
        "      <td> 4</td>\n",
        "      <td> 0</td>\n",
        "      <td> 0</td>\n",
        "      <td> 0</td>\n",
        "      <td> 0</td>\n",
        "      <td> 0</td>\n",
        "      <td> 0</td>\n",
        "      <td>...</td>\n",
        "      <td> 0</td>\n",
        "      <td> 0</td>\n",
        "      <td> 0</td>\n",
        "      <td> 0</td>\n",
        "      <td> 0</td>\n",
        "      <td> 0</td>\n",
        "      <td>  49</td>\n",
        "      <td> 1</td>\n",
        "      <td> 33</td>\n",
        "      <td> 0</td>\n",
        "    </tr>\n",
        "    <tr>\n",
        "      <th>2110</th>\n",
        "      <td> 0</td>\n",
        "      <td> 1</td>\n",
        "      <td> 0</td>\n",
        "      <td> 0</td>\n",
        "      <td> 0</td>\n",
        "      <td> 0</td>\n",
        "      <td> 0</td>\n",
        "      <td> 0</td>\n",
        "      <td> 0</td>\n",
        "      <td> 0</td>\n",
        "      <td>...</td>\n",
        "      <td> 0</td>\n",
        "      <td> 0</td>\n",
        "      <td> 0</td>\n",
        "      <td> 0</td>\n",
        "      <td> 0</td>\n",
        "      <td> 0</td>\n",
        "      <td>  34</td>\n",
        "      <td> 1</td>\n",
        "      <td> 29</td>\n",
        "      <td> 0</td>\n",
        "    </tr>\n",
        "    <tr>\n",
        "      <th>2111</th>\n",
        "      <td> 0</td>\n",
        "      <td> 1</td>\n",
        "      <td> 2</td>\n",
        "      <td> 6</td>\n",
        "      <td> 0</td>\n",
        "      <td> 0</td>\n",
        "      <td> 0</td>\n",
        "      <td> 0</td>\n",
        "      <td> 0</td>\n",
        "      <td> 0</td>\n",
        "      <td>...</td>\n",
        "      <td> 0</td>\n",
        "      <td> 0</td>\n",
        "      <td> 0</td>\n",
        "      <td> 0</td>\n",
        "      <td> 0</td>\n",
        "      <td> 0</td>\n",
        "      <td> 133</td>\n",
        "      <td> 3</td>\n",
        "      <td> 37</td>\n",
        "      <td> 0</td>\n",
        "    </tr>\n",
        "  </tbody>\n",
        "</table>\n",
        "<p>5 rows \u00d7 61 columns</p>\n",
        "</div>"
       ],
       "metadata": {},
       "output_type": "pyout",
       "prompt_number": 48,
       "text": [
        "CASE_TITLE        Christmas Tree Trash: District 04  City/State Snow Issues  \\\n",
        "LOCATION_ZIPCODE                                                              \n",
        "2026                                              0                       0   \n",
        "2108                                              0                       7   \n",
        "2109                                              0                       0   \n",
        "2110                                              0                       1   \n",
        "2111                                              0                       1   \n",
        "\n",
        "CASE_TITLE        Improper Storage of Trash (Barrels)  Misc. Snow Complaint  \\\n",
        "LOCATION_ZIPCODE                                                              \n",
        "2026                                                0                     0   \n",
        "2108                                                4                     5   \n",
        "2109                                                0                     4   \n",
        "2110                                                0                     0   \n",
        "2111                                                2                     6   \n",
        "\n",
        "CASE_TITLE        Missed \" Trash: District 07  Missed \"Other\" Trash: District  \\\n",
        "LOCATION_ZIPCODE                                                                \n",
        "2026                                        0                               0   \n",
        "2108                                        0                               0   \n",
        "2109                                        0                               0   \n",
        "2110                                        0                               0   \n",
        "2111                                        0                               0   \n",
        "\n",
        "CASE_TITLE        Missed \"Other\" Trash: District 02  \\\n",
        "LOCATION_ZIPCODE                                      \n",
        "2026                                              0   \n",
        "2108                                              0   \n",
        "2109                                              0   \n",
        "2110                                              0   \n",
        "2111                                              0   \n",
        "\n",
        "CASE_TITLE        Missed \"Other\" Trash: District 03  \\\n",
        "LOCATION_ZIPCODE                                      \n",
        "2026                                              0   \n",
        "2108                                              0   \n",
        "2109                                              0   \n",
        "2110                                              0   \n",
        "2111                                              0   \n",
        "\n",
        "CASE_TITLE        Missed \"Other\" Trash: District 04  \\\n",
        "LOCATION_ZIPCODE                                      \n",
        "2026                                              0   \n",
        "2108                                              0   \n",
        "2109                                              0   \n",
        "2110                                              0   \n",
        "2111                                              0   \n",
        "\n",
        "CASE_TITLE        Missed \"Other\" Trash: District 05         ...           \\\n",
        "LOCATION_ZIPCODE                                            ...            \n",
        "2026                                              0         ...            \n",
        "2108                                              0         ...            \n",
        "2109                                              0         ...            \n",
        "2110                                              0         ...            \n",
        "2111                                              0         ...            \n",
        "\n",
        "CASE_TITLE        Missed Trash: No Location  \\\n",
        "LOCATION_ZIPCODE                              \n",
        "2026                                      0   \n",
        "2108                                      0   \n",
        "2109                                      0   \n",
        "2110                                      0   \n",
        "2111                                      0   \n",
        "\n",
        "CASE_TITLE        PublicWorks: Complaint  Missed Trash  D1B  \\\n",
        "LOCATION_ZIPCODE                                              \n",
        "2026                                                      0   \n",
        "2108                                                      0   \n",
        "2109                                                      0   \n",
        "2110                                                      0   \n",
        "2111                                                      0   \n",
        "\n",
        "CASE_TITLE        PublicWorks: Complaint  Missed Trash D7 Dorchester  \\\n",
        "LOCATION_ZIPCODE                                                       \n",
        "2026                                                              0    \n",
        "2108                                                              0    \n",
        "2109                                                              0    \n",
        "2110                                                              0    \n",
        "2111                                                              0    \n",
        "\n",
        "CASE_TITLE        PublicWorks: Complaint Missed Trash  D1B  \\\n",
        "LOCATION_ZIPCODE                                             \n",
        "2026                                                     0   \n",
        "2108                                                     0   \n",
        "2109                                                     0   \n",
        "2110                                                     0   \n",
        "2111                                                     0   \n",
        "\n",
        "CASE_TITLE        PublicWorks: Complaint Missed Trash  D6 West Roxbury  \\\n",
        "LOCATION_ZIPCODE                                                         \n",
        "2026                                                              0      \n",
        "2108                                                              0      \n",
        "2109                                                              0      \n",
        "2110                                                              0      \n",
        "2111                                                              0      \n",
        "\n",
        "CASE_TITLE        PublicWorks: Complaint Missed Trash D9 East Boston  \\\n",
        "LOCATION_ZIPCODE                                                       \n",
        "2026                                                              0    \n",
        "2108                                                              0    \n",
        "2109                                                              0    \n",
        "2110                                                              0    \n",
        "2111                                                              0    \n",
        "\n",
        "CASE_TITLE        Request for Snow Plowing  \\\n",
        "LOCATION_ZIPCODE                             \n",
        "2026                                     0   \n",
        "2108                                   194   \n",
        "2109                                    49   \n",
        "2110                                    34   \n",
        "2111                                   133   \n",
        "\n",
        "CASE_TITLE        Request for Snow Plowing (Emergency Responder)  \\\n",
        "LOCATION_ZIPCODE                                                   \n",
        "2026                                                           0   \n",
        "2108                                                           8   \n",
        "2109                                                           1   \n",
        "2110                                                           1   \n",
        "2111                                                           3   \n",
        "\n",
        "CASE_TITLE        Snow Removal  Trash on Vacant Lot  \n",
        "LOCATION_ZIPCODE                                     \n",
        "2026                         1                    0  \n",
        "2108                        42                    0  \n",
        "2109                        33                    0  \n",
        "2110                        29                    0  \n",
        "2111                        37                    0  \n",
        "\n",
        "[5 rows x 61 columns]"
       ]
      }
     ],
     "prompt_number": 48
    },
    {
     "cell_type": "code",
     "collapsed": false,
     "input": [
      "error = np.zeros(11)\n",
      "error[0] = 0;\n",
      "for k in range(1,11):\n",
      "    kmeans = KMeans(init='k-means++', n_clusters=k, n_init=10)\n",
      "    kmeans.fit_predict(corr)\n",
      "    error[k] = kmeans.inertia_\n",
      "\n",
      "plt.plot(range(1,len(error)),error[1:])\n",
      "plt.xlabel('Number of clusters')\n",
      "plt.ylabel('Error')\n"
     ],
     "language": "python",
     "metadata": {},
     "outputs": [
      {
       "metadata": {},
       "output_type": "pyout",
       "prompt_number": 49,
       "text": [
        "<matplotlib.text.Text at 0x7ff576faae90>"
       ]
      },
      {
       "metadata": {},
       "output_type": "display_data",
       "png": "[encoded data removed]",
       "text": [
        "<matplotlib.figure.Figure at 0x7ff57c34e5d0>"
       ]
      }
     ],
     "prompt_number": 49
    },
    {
     "cell_type": "code",
     "collapsed": false,
     "input": [
      "sns.heatmap(corr, xticklabels=False, yticklabels=False, linewidths=0,cbar=False)"
     ],
     "language": "python",
     "metadata": {},
     "outputs": [
      {
       "metadata": {},
       "output_type": "pyout",
       "prompt_number": 50,
       "text": [
        "<matplotlib.axes._subplots.AxesSubplot at 0x7ff577c9b9d0>"
       ]
      },
      {
       "metadata": {},
       "output_type": "display_data",
       "png": "[encoded data removed]",
       "text": [
        "<matplotlib.figure.Figure at 0x7ff5767fc190>"
       ]
      }
     ],
     "prompt_number": 50
    },
    {
     "cell_type": "code",
     "collapsed": false,
     "input": [
      "import sklearn.metrics as metrics\n",
      "kmeans = KMeans(init='k-means++', n_clusters=3, n_init=10)\n",
      "kmeans.fit_predict(corr)\n",
      "\n",
      "centroids = kmeans.cluster_centers_\n",
      "labels = kmeans.labels_\n",
      "error = kmeans.inertia_\n",
      "\n",
      "idx = np.argsort(labels)\n",
      "euclidean_dists = metrics.euclidean_distances(corr)\n",
      "rearranged_dists = euclidean_dists[idx,:][:,idx]\n",
      "sns.heatmap(rearranged_dists, xticklabels=False, yticklabels=False, linewidths=0, square=True,cbar=False)\n"
     ],
     "language": "python",
     "metadata": {},
     "outputs": [
      {
       "metadata": {},
       "output_type": "pyout",
       "prompt_number": 51,
       "text": [
        "<matplotlib.axes._subplots.AxesSubplot at 0x7ff576e73310>"
       ]
      },
      {
       "metadata": {},
       "output_type": "display_data",
       "png": "[encoded data removed]",
       "text": [
        "<matplotlib.figure.Figure at 0x7ff576b4ef50>"
       ]
      }
     ],
     "prompt_number": 51
    },
    {
     "cell_type": "code",
     "collapsed": false,
     "input": [
      "kmeans = KMeans(init='k-means++', n_clusters=3, n_init=10)\n",
      "z = kmeans.fit_predict(corr)\n",
      "\n",
      "corr= corr.reset_index()\n",
      "corr['trashgroup']=z\n",
      "minicorr= corr[['LOCATION_ZIPCODE','trashgroup']]\n",
      "\n",
      "snow_lim['trashgroup']=0\n",
      "snow_lim = snow_lim.fillna(0)\n",
      "snow_lim = snow_lim[snow_lim.LOCATION_ZIPCODE != 0]\n",
      "finalframe=pd.merge(snow_lim, minicorr, on='LOCATION_ZIPCODE', how= 'outer')"
     ],
     "language": "python",
     "metadata": {},
     "outputs": [],
     "prompt_number": 52
    },
    {
     "cell_type": "code",
     "collapsed": false,
     "input": [
      "x=finalframe['LONGITUDE']\n",
      "y=finalframe['LATITUDE']\n",
      "\n",
      "cmspec = plt.get_cmap(\"spectral\")\n",
      "plt.scatter(x,y, c = finalframe['trashgroup_y'], cmap=cmspec, s=(20,20), marker ='+' )"
     ],
     "language": "python",
     "metadata": {},
     "outputs": [
      {
       "metadata": {},
       "output_type": "pyout",
       "prompt_number": 53,
       "text": [
        "<matplotlib.collections.PathCollection at 0x7ff575c9fb50>"
       ]
      },
      {
       "metadata": {},
       "output_type": "display_data",
       "png": "[encoded data removed]",
       "text": [
        "<matplotlib.figure.Figure at 0x7ff576e7bf90>"
       ]
      }
     ],
     "prompt_number": 53
    },
    {
     "cell_type": "markdown",
     "metadata": {},
     "source": [
      "The above represents a clustering using zipcodes as points, and clustering them based on the number of calls related to both trash and snow removal.  During the snow storms trash removal was sub par, so it makes sense to include both trash and snow information in our clustering which reveals which neighborhoods were hardest hit by the snow storms.  While the elbow rule suggest two main clusterings, 3 clusters gives better resolution for sorting out neighborhoods with a high, medium, and low volume of calls regarding trash removal.  In the above plot we can see that the neighborhoods with the least calls (green) are localized in the comercial and non residential areas of North End, Fenway/Backbay, and Brighton.  The most calls (grey) were seen in the more densly populated and residential areas of Dorchester, South Boston, Hyde Park, and West Roxbury."
     ]
    },
    {
     "cell_type": "heading",
     "level": 2,
     "metadata": {},
     "source": [
      "Step 3. Detecting outliers"
     ]
    },
    {
     "cell_type": "markdown",
     "metadata": {},
     "source": [
      "Now that we have a clustering of the records in the dataset, we can detect the outlying ones. These are the ones who are the farthest from the centroids of their clusters. Track them down and describe any interesting observations that you can make. **(pts 20)** "
     ]
    },
    {
     "cell_type": "code",
     "collapsed": false,
     "input": [
      "newcorr=corr.drop('LOCATION_ZIPCODE', 1)\n",
      "newcorr=newcorr.drop('trashgroup', 1)\n",
      "#newcorr=newcorr.drop('distances',1 )\n",
      "newcorr.head()\n",
      "euclidean = pd.DataFrame(metrics.euclidean_distances(centroids, newcorr), columns =[corr['LOCATION_ZIPCODE']])\n",
      "#for index, row in euclidean.iterrows:\n",
      "print euclidean.max()\n",
      "corr[corr['LOCATION_ZIPCODE']==2124]\n"
     ],
     "language": "python",
     "metadata": {},
     "outputs": [
      {
       "output_type": "stream",
       "stream": "stdout",
       "text": [
        "2026     987.429415\n",
        "2108     791.856584\n",
        "2109     930.643997\n",
        "2110     946.236572\n",
        "2111     850.423689\n",
        "2113     874.204353\n",
        "2114     753.365947\n",
        "2115     711.480604\n",
        "2116     510.949751\n",
        "2118     597.081418\n",
        "2119     863.018005\n",
        "2120     752.188175\n",
        "2121     864.966765\n",
        "2122     722.937908\n",
        "2124    1212.600366\n",
        "2125     877.834961\n",
        "2126     607.172667\n",
        "2127     812.901377\n",
        "2128     768.448672\n",
        "2129     463.209942\n",
        "2130    1078.033960\n",
        "2131     657.246044\n",
        "2132     778.275157\n",
        "2134     714.905763\n",
        "2135     633.278153\n",
        "2136     840.480350\n",
        "2199     986.790885\n",
        "2210     934.426054\n",
        "2215     855.462360\n",
        "2467     979.302737\n",
        "dtype: float64\n"
       ]
      },
      {
       "html": [
        "<div style=\"max-height:1000px;max-width:1500px;overflow:auto;\">\n",
        "<table border=\"1\" class=\"dataframe\">\n",
        "  <thead>\n",
        "    <tr style=\"text-align: right;\">\n",
        "      <th>CASE_TITLE</th>\n",
        "      <th>LOCATION_ZIPCODE</th>\n",
        "      <th>Christmas Tree Trash: District 04</th>\n",
        "      <th>City/State Snow Issues</th>\n",
        "      <th>Improper Storage of Trash (Barrels)</th>\n",
        "      <th>Misc. Snow Complaint</th>\n",
        "      <th>Missed \" Trash: District 07</th>\n",
        "      <th>Missed \"Other\" Trash: District</th>\n",
        "      <th>Missed \"Other\" Trash: District 02</th>\n",
        "      <th>Missed \"Other\" Trash: District 03</th>\n",
        "      <th>Missed \"Other\" Trash: District 04</th>\n",
        "      <th>...</th>\n",
        "      <th>PublicWorks: Complaint  Missed Trash  D1B</th>\n",
        "      <th>PublicWorks: Complaint  Missed Trash D7 Dorchester</th>\n",
        "      <th>PublicWorks: Complaint Missed Trash  D1B</th>\n",
        "      <th>PublicWorks: Complaint Missed Trash  D6 West Roxbury</th>\n",
        "      <th>PublicWorks: Complaint Missed Trash D9 East Boston</th>\n",
        "      <th>Request for Snow Plowing</th>\n",
        "      <th>Request for Snow Plowing (Emergency Responder)</th>\n",
        "      <th>Snow Removal</th>\n",
        "      <th>Trash on Vacant Lot</th>\n",
        "      <th>trashgroup</th>\n",
        "    </tr>\n",
        "  </thead>\n",
        "  <tbody>\n",
        "    <tr>\n",
        "      <th>14</th>\n",
        "      <td> 2124</td>\n",
        "      <td> 0</td>\n",
        "      <td> 17</td>\n",
        "      <td> 10</td>\n",
        "      <td> 74</td>\n",
        "      <td> 1</td>\n",
        "      <td> 0</td>\n",
        "      <td> 0</td>\n",
        "      <td> 2</td>\n",
        "      <td> 0</td>\n",
        "      <td>...</td>\n",
        "      <td> 0</td>\n",
        "      <td> 0</td>\n",
        "      <td> 0</td>\n",
        "      <td> 0</td>\n",
        "      <td> 0</td>\n",
        "      <td> 1248</td>\n",
        "      <td> 27</td>\n",
        "      <td> 437</td>\n",
        "      <td> 1</td>\n",
        "      <td> 2</td>\n",
        "    </tr>\n",
        "  </tbody>\n",
        "</table>\n",
        "<p>1 rows \u00d7 63 columns</p>\n",
        "</div>"
       ],
       "metadata": {},
       "output_type": "pyout",
       "prompt_number": 55,
       "text": [
        "CASE_TITLE  LOCATION_ZIPCODE  Christmas Tree Trash: District 04  \\\n",
        "14                      2124                                  0   \n",
        "\n",
        "CASE_TITLE  City/State Snow Issues  Improper Storage of Trash (Barrels)  \\\n",
        "14                              17                                   10   \n",
        "\n",
        "CASE_TITLE  Misc. Snow Complaint  Missed \" Trash: District 07  \\\n",
        "14                            74                            1   \n",
        "\n",
        "CASE_TITLE  Missed \"Other\" Trash: District  Missed \"Other\" Trash: District 02  \\\n",
        "14                                       0                                  0   \n",
        "\n",
        "CASE_TITLE  Missed \"Other\" Trash: District 03  \\\n",
        "14                                          2   \n",
        "\n",
        "CASE_TITLE  Missed \"Other\" Trash: District 04     ...      \\\n",
        "14                                          0     ...       \n",
        "\n",
        "CASE_TITLE  PublicWorks: Complaint  Missed Trash  D1B  \\\n",
        "14                                                  0   \n",
        "\n",
        "CASE_TITLE  PublicWorks: Complaint  Missed Trash D7 Dorchester  \\\n",
        "14                                                          0    \n",
        "\n",
        "CASE_TITLE  PublicWorks: Complaint Missed Trash  D1B  \\\n",
        "14                                                 0   \n",
        "\n",
        "CASE_TITLE  PublicWorks: Complaint Missed Trash  D6 West Roxbury  \\\n",
        "14                                                          0      \n",
        "\n",
        "CASE_TITLE  PublicWorks: Complaint Missed Trash D9 East Boston  \\\n",
        "14                                                          0    \n",
        "\n",
        "CASE_TITLE  Request for Snow Plowing  \\\n",
        "14                              1248   \n",
        "\n",
        "CASE_TITLE  Request for Snow Plowing (Emergency Responder)  Snow Removal  \\\n",
        "14                                                      27           437   \n",
        "\n",
        "CASE_TITLE  Trash on Vacant Lot  trashgroup  \n",
        "14                            1           2  \n",
        "\n",
        "[1 rows x 63 columns]"
       ]
      }
     ],
     "prompt_number": 55
    },
    {
     "cell_type": "markdown",
     "metadata": {},
     "source": [
      "Above we see the outlier area of the 2124 zipcode.  This area is an outlier due to its especially high number of calls regarding snow complaints and can be regarded as one of the hardest hit zipcodes by the recent snow storms."
     ]
    },
    {
     "cell_type": "code",
     "collapsed": false,
     "input": [
      "# Code for setting the style of the notebook\n",
      "from IPython.core.display import HTML\n",
      "def css_styling():\n",
      "    styles = open(\"../../theme/custom.css\", \"r\").read()\n",
      "    return HTML(styles)\n",
      "css_styling()"
     ],
     "language": "python",
     "metadata": {},
     "outputs": [
      {
       "html": [
        "<link href='http://fonts.googleapis.com/css?family=EB+Garamond' rel='stylesheet' type='text/css'>\n",
        "<link href='http://fonts.googleapis.com/css?family=Alegreya+Sans:100,300,400,500,700,800,900,100italic,300italic,400italic,500italic,700italic,800italic,900italic' rel='stylesheet' type='text/css'>\n",
        "<link href='http://fonts.googleapis.com/css?family=Source+Code+Pro:300,400' rel='stylesheet' type='text/css'>\n",
        "<style>\n",
        "    @font-face {\n",
        "        font-family: \"Computer Modern\";\n",
        "        src: url('http://mirrors.ctan.org/fonts/cm-unicode/fonts/otf/cmunss.otf');\n",
        "    }\n",
        "    .code_cell {\n",
        "        width: 105ex !important ;\n",
        "        margin-bottom: 15px !important;\n",
        "    }\n",
        "    div.cell {\n",
        "        margin-left: auto;\n",
        "        margin-right: auto;\n",
        "        width: 70%;\n",
        "    }    \n",
        "    div.cell.selected {\n",
        "        border: thin rgba(171, 171, 171, 0.5) dashed;\n",
        "    }\n",
        "    h1 {\n",
        "        font-family: 'Alegreya Sans', sans-serif;\n",
        "    }\n",
        "    h2 {\n",
        "        font-family: 'EB Garamond', serif;\n",
        "    }\n",
        "    h3 {\n",
        "        font-family: 'EB Garamond', serif;\n",
        "        margin-top:12px;\n",
        "        margin-bottom: 3px;\n",
        "    }\n",
        "    h4 {\n",
        "        font-family: 'EB Garamond', serif;\n",
        "    }\n",
        "    h5 {\n",
        "        font-family: 'Alegreya Sans', sans-serif;\n",
        "    }\n",
        "    div.text_cell_render {\n",
        "        font-family: 'EB Garamond',Computer Modern, \"Helvetica Neue\", Arial, Helvetica, Geneva, sans-serif;\n",
        "        line-height: 145%;\n",
        "        font-size: 140%;\n",
        "    }\n",
        "    div.input_area {\n",
        "        border-color: rgba(0,0,0,0.10) !important;\n",
        "        background: #fafafa;\n",
        "    }\n",
        "    .CodeMirror {\n",
        "            font-family: \"Source Code Pro\";\n",
        "            font-size: 90%;\n",
        "    }\n",
        "    .prompt {\n",
        "        display: None;\n",
        "    }\n",
        "    .output {\n",
        "        padding-left: 50px;\n",
        "        padding-top: 5px;\n",
        "    }\n",
        "    .output_wrapper {\n",
        "        padding-left: 5px;\n",
        "        padding-top: inherit;\n",
        "    }\n",
        "    div.output_scroll {\n",
        "        width: inherit;\n",
        "    }\n",
        "    .inner_cell {\n",
        "        padding-left: 5px;\n",
        "    }\n",
        "    .text_cell_render h1 {\n",
        "        font-weight: 200;\n",
        "        font-size: 50pt;\n",
        "        line-height: 100%;\n",
        "        color:#CD2305;\n",
        "        margin-bottom: 0.5em;\n",
        "        margin-top: 0.5em;\n",
        "        display: block;\n",
        "    }\n",
        "    .text_cell_render h5 {\n",
        "        font-weight: 300;\n",
        "        font-size: 16pt;\n",
        "        color: #CD2305;\n",
        "        font-style: italic;\n",
        "        margin-bottom: .5em;\n",
        "        margin-top: 0.5em;\n",
        "        display: block;\n",
        "    }\n",
        "    .warning {\n",
        "        color: rgb( 240, 20, 20 )\n",
        "        }  \n",
        "</style>\n",
        "<script>\n",
        "    MathJax.Hub.Config({\n",
        "                        TeX: {\n",
        "                           extensions: [\"AMSmath.js\"]\n",
        "                           },\n",
        "                tex2jax: {\n",
        "                    inlineMath: [ ['$','$'], [\"\\\\(\",\"\\\\)\"] ],\n",
        "                    displayMath: [ ['$$','$$'], [\"\\\\[\",\"\\\\]\"] ]\n",
        "                },\n",
        "                displayAlign: 'center', // Change this to 'center' to center equations.\n",
        "                \"HTML-CSS\": {\n",
        "                    styles: {'.MathJax_Display': {\"margin\": 4}}\n",
        "                }\n",
        "        });\n",
        "</script>"
       ],
       "metadata": {},
       "output_type": "pyout",
       "prompt_number": 21,
       "text": [
        "<IPython.core.display.HTML at 0x189e1320>"
       ]
      }
     ],
     "prompt_number": 21
    }
   ],
   "metadata": {}
  }
 ]
}